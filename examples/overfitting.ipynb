{
 "cells": [
  {
   "cell_type": "code",
   "execution_count": 3,
   "id": "a899a7a6",
   "metadata": {},
   "outputs": [],
   "source": [
    "import numpy as np\n",
    "import matplotlib.pyplot as plt"
   ]
  },
  {
   "cell_type": "markdown",
   "id": "a99df1dd",
   "metadata": {},
   "source": [
    "Data distribution: $X \\sim N(0,I)$ and $Y \\mid X=x \\sim N(\\langle u,x \\rangle, 1)$ with $u = (1,1,1,1,1,1,1,1,1,1,0,\\dotsc,0)$"
   ]
  },
  {
   "cell_type": "code",
   "execution_count": 4,
   "id": "a1a65765",
   "metadata": {},
   "outputs": [],
   "source": [
    "def mse(w):\n",
    "    return np.sum((w[:10]-1)**2) + np.sum(w[10:]**2) + 1"
   ]
  },
  {
   "cell_type": "code",
   "execution_count": 5,
   "id": "3d46f2ca",
   "metadata": {},
   "outputs": [],
   "source": [
    "n = 100\n",
    "d = 100\n",
    "A = np.random.randn(n,d)\n",
    "b = np.sum(A[:,:10],axis=1) + np.random.randn(n)"
   ]
  },
  {
   "cell_type": "code",
   "execution_count": 6,
   "id": "18563891",
   "metadata": {},
   "outputs": [],
   "source": [
    "def train_mse(w):\n",
    "    return np.mean((A.dot(w) - b)**2)"
   ]
  },
  {
   "cell_type": "code",
   "execution_count": 7,
   "id": "1b74d551",
   "metadata": {},
   "outputs": [],
   "source": [
    "lambdas = [0, 1, 2, 4, 8, 16, 32, 64, 128, 256, 512]"
   ]
  },
  {
   "cell_type": "code",
   "execution_count": 8,
   "id": "efe5805b",
   "metadata": {},
   "outputs": [
    {
     "name": "stdout",
     "output_type": "stream",
     "text": [
      "lambda: 0, training mse: 2.1879093429703602e-23, true mse: 100.79454735937807\n",
      "lambda: 1, training mse: 0.036824509202152376, true mse: 4.858238111522301\n",
      "lambda: 2, training mse: 0.06303341512156461, true mse: 3.961791788319732\n",
      "lambda: 4, training mse: 0.1113305166500582, true mse: 3.4613223574377976\n",
      "lambda: 8, training mse: 0.20642203732080483, true mse: 3.2882312703608334\n",
      "lambda: 16, training mse: 0.39929495960978684, true mse: 3.4411206921359714\n",
      "lambda: 32, training mse: 0.782571403223107, true mse: 3.956982612093897\n",
      "lambda: 64, training mse: 1.4874150613651294, true mse: 4.857230771541988\n",
      "lambda: 128, training mse: 2.6188762077288317, true mse: 6.080504024476088\n",
      "lambda: 256, training mse: 4.1185185633936365, true mse: 7.442909910373335\n",
      "lambda: 512, training mse: 5.695228576203996, true mse: 8.68994393816628\n"
     ]
    }
   ],
   "source": [
    "ATA = A.T.dot(A)\n",
    "ATb = A.T.dot(b)\n",
    "I = np.eye(d)\n",
    "for l in lambdas:\n",
    "    w = np.linalg.pinv(ATA + l * I).dot(ATb)\n",
    "    print(f'lambda: {l}, training mse: {train_mse(w)}, true mse: {mse(w)}')"
   ]
  },
  {
   "cell_type": "code",
   "execution_count": null,
   "id": "500befba-8f49-4e41-9312-7689227ae1d9",
   "metadata": {},
   "outputs": [],
   "source": []
  }
 ],
 "metadata": {
  "kernelspec": {
   "display_name": "Python 3 (ipykernel)",
   "language": "python",
   "name": "python3"
  },
  "language_info": {
   "codemirror_mode": {
    "name": "ipython",
    "version": 3
   },
   "file_extension": ".py",
   "mimetype": "text/x-python",
   "name": "python",
   "nbconvert_exporter": "python",
   "pygments_lexer": "ipython3",
   "version": "3.11.5"
  }
 },
 "nbformat": 4,
 "nbformat_minor": 5
}
