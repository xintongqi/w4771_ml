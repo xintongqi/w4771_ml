{
 "cells": [
  {
   "cell_type": "markdown",
   "id": "85d31655",
   "metadata": {},
   "source": [
    "# COMS 4771 - Machine Learning, Fall 2023"
   ]
  },
  {
   "cell_type": "markdown",
   "id": "f01a93bb",
   "metadata": {},
   "source": [
    "## NumPy Basics"
   ]
  },
  {
   "cell_type": "markdown",
   "id": "72df6539",
   "metadata": {},
   "source": [
    "The main numpy object is called “homogeneous multidimensional array”. It allows faster performance in mathematical operations than normal Python array/list. The below is a nice and simple introduction to basic NumPy functions and properties."
   ]
  },
  {
   "cell_type": "code",
   "execution_count": 1,
   "id": "da9d550a",
   "metadata": {},
   "outputs": [],
   "source": [
    "import numpy as np"
   ]
  },
  {
   "cell_type": "markdown",
   "id": "03dda8e6",
   "metadata": {},
   "source": [
    "### Initializing Numpy arrays"
   ]
  },
  {
   "cell_type": "code",
   "execution_count": 2,
   "id": "e19c34c0",
   "metadata": {},
   "outputs": [],
   "source": [
    "a = np.array([1, 2, 3, 4, 5])\n",
    "b = np.array([[1, 2, 3, 4, 5], [6, 7, 8, 9, 10]], dtype = float)\n",
    "c = np.array([[0, 5], [1, 6], [2, 7], [3, 8], [4, 9]], dtype = int)"
   ]
  },
  {
   "cell_type": "code",
   "execution_count": 3,
   "id": "cb3dcaed",
   "metadata": {},
   "outputs": [
    {
     "data": {
      "text/plain": [
       "array([0., 0., 0., 0., 0.])"
      ]
     },
     "execution_count": 3,
     "metadata": {},
     "output_type": "execute_result"
    }
   ],
   "source": [
    "np.zeros(5)            # a vector/1D array of zeros with size of 5"
   ]
  },
  {
   "cell_type": "code",
   "execution_count": 4,
   "id": "840778b3",
   "metadata": {
    "scrolled": true
   },
   "outputs": [
    {
     "data": {
      "text/plain": [
       "array([[1., 1., 1., 1.],\n",
       "       [1., 1., 1., 1.],\n",
       "       [1., 1., 1., 1.]])"
      ]
     },
     "execution_count": 4,
     "metadata": {},
     "output_type": "execute_result"
    }
   ],
   "source": [
    "np.ones((3, 4))        # a matrix/2D array of ones with shape 3x4 "
   ]
  },
  {
   "cell_type": "code",
   "execution_count": 5,
   "id": "ab9f0be1",
   "metadata": {
    "scrolled": true
   },
   "outputs": [
    {
     "data": {
      "text/plain": [
       "array([[0.69520009, 0.48675928],\n",
       "       [0.09465856, 0.05482368],\n",
       "       [0.83264285, 0.94659103]])"
      ]
     },
     "execution_count": 5,
     "metadata": {},
     "output_type": "execute_result"
    }
   ],
   "source": [
    "np.random.rand(3,2)    # a 3x2 matrix with random entries from a uniform distribution over [0, 1)"
   ]
  },
  {
   "cell_type": "code",
   "execution_count": 6,
   "id": "e7f0e71a",
   "metadata": {},
   "outputs": [
    {
     "data": {
      "text/plain": [
       "array([[4, 4, 4],\n",
       "       [4, 4, 4]])"
      ]
     },
     "execution_count": 6,
     "metadata": {},
     "output_type": "execute_result"
    }
   ],
   "source": [
    "np.full((2, 3), 4)     # a 2x3 matrix filled with 4"
   ]
  },
  {
   "cell_type": "code",
   "execution_count": 7,
   "id": "4c859155",
   "metadata": {},
   "outputs": [
    {
     "data": {
      "text/plain": [
       "array([0, 1, 2, 3, 4, 5, 6, 7, 8, 9])"
      ]
     },
     "execution_count": 7,
     "metadata": {},
     "output_type": "execute_result"
    }
   ],
   "source": [
    "np.arange(0, 10)       # a vector of evenly spaced values ranging from 0 to 9"
   ]
  },
  {
   "cell_type": "markdown",
   "id": "759be0dd",
   "metadata": {},
   "source": [
    "### Getting properties of a Numpy array"
   ]
  },
  {
   "cell_type": "code",
   "execution_count": 8,
   "id": "c0feb63b",
   "metadata": {},
   "outputs": [
    {
     "data": {
      "text/plain": [
       "(2, 5)"
      ]
     },
     "execution_count": 8,
     "metadata": {},
     "output_type": "execute_result"
    }
   ],
   "source": [
    "b.shape              # dimension of the matrix"
   ]
  },
  {
   "cell_type": "code",
   "execution_count": 9,
   "id": "fc008629",
   "metadata": {},
   "outputs": [
    {
     "data": {
      "text/plain": [
       "10"
      ]
     },
     "execution_count": 9,
     "metadata": {},
     "output_type": "execute_result"
    }
   ],
   "source": [
    "b.size               # total number of elements in the matrix"
   ]
  },
  {
   "cell_type": "code",
   "execution_count": 10,
   "id": "18b8beb7",
   "metadata": {},
   "outputs": [
    {
     "data": {
      "text/plain": [
       "2"
      ]
     },
     "execution_count": 10,
     "metadata": {},
     "output_type": "execute_result"
    }
   ],
   "source": [
    "b.ndim               # number of dimensions"
   ]
  },
  {
   "cell_type": "code",
   "execution_count": 11,
   "id": "3fdb429a",
   "metadata": {},
   "outputs": [
    {
     "data": {
      "text/plain": [
       "dtype('float64')"
      ]
     },
     "execution_count": 11,
     "metadata": {},
     "output_type": "execute_result"
    }
   ],
   "source": [
    "b.dtype              # data type of the elements"
   ]
  },
  {
   "cell_type": "markdown",
   "id": "53c9743b",
   "metadata": {},
   "source": [
    "### Numpy array basic operations"
   ]
  },
  {
   "cell_type": "markdown",
   "id": "182e139f",
   "metadata": {},
   "source": [
    "Numpy supports arrays operations (e,g. addition, subtraction, multiplication and division) as well as other useful functions."
   ]
  },
  {
   "cell_type": "code",
   "execution_count": 12,
   "id": "d909a209",
   "metadata": {},
   "outputs": [],
   "source": [
    "x = np.arange(0, 5)\n",
    "y = np.arange(5, 10)"
   ]
  },
  {
   "cell_type": "code",
   "execution_count": 13,
   "id": "f52958d4",
   "metadata": {},
   "outputs": [
    {
     "data": {
      "text/plain": [
       "array([ 5,  7,  9, 11, 13])"
      ]
     },
     "execution_count": 13,
     "metadata": {},
     "output_type": "execute_result"
    }
   ],
   "source": [
    "x + y                 # element-wise addition"
   ]
  },
  {
   "cell_type": "code",
   "execution_count": 14,
   "id": "deb53019",
   "metadata": {
    "scrolled": true
   },
   "outputs": [
    {
     "data": {
      "text/plain": [
       "array([-5, -5, -5, -5, -5])"
      ]
     },
     "execution_count": 14,
     "metadata": {},
     "output_type": "execute_result"
    }
   ],
   "source": [
    "x - y                 # element-wise subtraction"
   ]
  },
  {
   "cell_type": "code",
   "execution_count": 15,
   "id": "c7eca53f",
   "metadata": {},
   "outputs": [
    {
     "data": {
      "text/plain": [
       "array([ 0,  6, 14, 24, 36])"
      ]
     },
     "execution_count": 15,
     "metadata": {},
     "output_type": "execute_result"
    }
   ],
   "source": [
    "x * y                 # element-wise multiplication"
   ]
  },
  {
   "cell_type": "code",
   "execution_count": 16,
   "id": "07ca6c1b",
   "metadata": {
    "scrolled": true
   },
   "outputs": [
    {
     "data": {
      "text/plain": [
       "array([0.        , 0.16666667, 0.28571429, 0.375     , 0.44444444])"
      ]
     },
     "execution_count": 16,
     "metadata": {},
     "output_type": "execute_result"
    }
   ],
   "source": [
    "x / y                 # element-wise division"
   ]
  },
  {
   "cell_type": "code",
   "execution_count": 17,
   "id": "913a44ca",
   "metadata": {},
   "outputs": [
    {
     "data": {
      "text/plain": [
       "array([False, False, False, False, False])"
      ]
     },
     "execution_count": 17,
     "metadata": {},
     "output_type": "execute_result"
    }
   ],
   "source": [
    "x == y                # element-wise comparison"
   ]
  },
  {
   "cell_type": "code",
   "execution_count": 18,
   "id": "b748778d",
   "metadata": {},
   "outputs": [
    {
     "data": {
      "text/plain": [
       "4"
      ]
     },
     "execution_count": 18,
     "metadata": {},
     "output_type": "execute_result"
    }
   ],
   "source": [
    "x.max()               # max value in x  "
   ]
  },
  {
   "cell_type": "code",
   "execution_count": 19,
   "id": "4b27e818",
   "metadata": {},
   "outputs": [
    {
     "data": {
      "text/plain": [
       "0"
      ]
     },
     "execution_count": 19,
     "metadata": {},
     "output_type": "execute_result"
    }
   ],
   "source": [
    "x.min()               # min value in x  "
   ]
  },
  {
   "cell_type": "code",
   "execution_count": 20,
   "id": "6576db05",
   "metadata": {},
   "outputs": [
    {
     "data": {
      "text/plain": [
       "10"
      ]
     },
     "execution_count": 20,
     "metadata": {},
     "output_type": "execute_result"
    }
   ],
   "source": [
    "x.sum()               # max value in x  "
   ]
  },
  {
   "cell_type": "code",
   "execution_count": 21,
   "id": "3453cd2f",
   "metadata": {
    "scrolled": true
   },
   "outputs": [
    {
     "data": {
      "text/plain": [
       "2.0"
      ]
     },
     "execution_count": 21,
     "metadata": {},
     "output_type": "execute_result"
    }
   ],
   "source": [
    "x.mean()              # mean of x"
   ]
  },
  {
   "cell_type": "markdown",
   "id": "b9d3dbd9",
   "metadata": {},
   "source": [
    "The above are the most basic operations and functions for Numpy arrays. There are many more interesting functions such as <i>ndarray.flatten(), numpy.squeeze(), numpy.expand_dims,...</i> which are used to manipulate the dimensions of array as well as other functions for different purposes.\n",
    "\n",
    "Please be careful about performing operations of arrays with different sizes. Instead of throwing errors, Numpy will sometimes do things such as automatically increasing the dimensionality of the array smaller in size to match the larger one. \n",
    "\n",
    "For example:"
   ]
  },
  {
   "cell_type": "code",
   "execution_count": 22,
   "id": "ecd5288d",
   "metadata": {},
   "outputs": [
    {
     "name": "stdout",
     "output_type": "stream",
     "text": [
      "[[2 2]\n",
      " [2 2]\n",
      " [2 2]]\n"
     ]
    }
   ],
   "source": [
    "x1 = np.full((3,2), 2)\n",
    "print(x1)"
   ]
  },
  {
   "cell_type": "code",
   "execution_count": 23,
   "id": "02e8aff8",
   "metadata": {},
   "outputs": [
    {
     "name": "stdout",
     "output_type": "stream",
     "text": [
      "[[1]\n",
      " [2]\n",
      " [3]]\n"
     ]
    }
   ],
   "source": [
    "x2 = np.expand_dims(np.arange(1,4), axis=1)\n",
    "print(x2)"
   ]
  },
  {
   "cell_type": "code",
   "execution_count": 24,
   "id": "e04573f4",
   "metadata": {},
   "outputs": [
    {
     "name": "stdout",
     "output_type": "stream",
     "text": [
      "[[2 2]\n",
      " [4 4]\n",
      " [6 6]]\n"
     ]
    }
   ],
   "source": [
    "print(x1 * x2)"
   ]
  },
  {
   "cell_type": "markdown",
   "id": "513d0c79",
   "metadata": {},
   "source": [
    "Although x1 and x2 are different in shape, we can see that Numpy is smart in the above operation. It multiplies each element in x2 to corresponding inner array of x1.\n",
    "\n",
    "However, this does not always happens. For example, if you try adding (element wise) a numpy array of 2x3 with another of 3x2, it will (intuitively) trigger error.\n",
    "\n",
    "If you are not confident about any operations, double-check to save your debugging time later as it is not always obvious."
   ]
  },
  {
   "cell_type": "markdown",
   "id": "c415d7ad",
   "metadata": {},
   "source": [
    "#### Exercise 1"
   ]
  },
  {
   "cell_type": "markdown",
   "id": "f05d9c28",
   "metadata": {},
   "source": [
    "Write a one-liner function to compute Euclidean distance between two vectors x and y given below. Manual check your function."
   ]
  },
  {
   "cell_type": "markdown",
   "id": "b68deb64",
   "metadata": {},
   "source": [
    "\\begin{align}\n",
    "    ED(\\vec{x},\\vec{y})= \\sqrt{\\sum_{i=1}^n (x_i-y_i)^2}\n",
    "\\end{align}"
   ]
  },
  {
   "cell_type": "code",
   "execution_count": 31,
   "id": "d46463ae",
   "metadata": {},
   "outputs": [
    {
     "name": "stdout",
     "output_type": "stream",
     "text": [
      "[0 1 2 3 4]\n",
      "[5 6 7 8 9]\n",
      "[-5 -5 -5 -5 -5]\n",
      "[25 25 25 25 25]\n",
      "125\n",
      "11.180339887498949\n"
     ]
    }
   ],
   "source": [
    "x = np.arange(0, 5)\n",
    "y = np.arange(5, 10)\n",
    "\n",
    "# You might want to use np.sqrt(), np.square() and np.sum()\n",
    "def ED(a, b):\n",
    "    return np.sqrt(np.sum(np.square(x-y)))\n",
    "    \n",
    "print(ED(x,y))"
   ]
  },
  {
   "cell_type": "markdown",
   "id": "09f85cf6",
   "metadata": {},
   "source": [
    "### Numpy matrix operations"
   ]
  },
  {
   "cell_type": "markdown",
   "id": "534a2f12",
   "metadata": {},
   "source": [
    "A two-dimensional matrix in Linear Algebra could be expressed as a 2D array in Numpy.\n",
    "\n",
    "\\begin{align}\n",
    "    \\mathbf{X} = \\begin{pmatrix} \n",
    "        1 & 2 & 3 \\\\ 4 & 5 & 6 \\\\ 7 & 8 & 9 \n",
    "    \\end{pmatrix} \n",
    "    \\quad \\text{and} \\quad \n",
    "    \\mathbf{Y} = \\begin{pmatrix} \n",
    "        1 & 3 & 2 \\\\ 5 & 2 & 1 \\\\ 2 & 3 & 1 \n",
    "    \\end{pmatrix}\n",
    "\\end{align}"
   ]
  },
  {
   "cell_type": "markdown",
   "id": "e9abc9f1",
   "metadata": {},
   "source": [
    "Matrices X and Y could be expressed in Numpy as:"
   ]
  },
  {
   "cell_type": "code",
   "execution_count": 33,
   "id": "7703eb7c",
   "metadata": {},
   "outputs": [],
   "source": [
    "X = np.array([[1,2,3],[4,5,6],[7,8,9]])\n",
    "Y = np.array([[1,3,2],[5,2,1],[2,3,1]])"
   ]
  },
  {
   "cell_type": "markdown",
   "id": "74eba84f",
   "metadata": {},
   "source": [
    "Below are the common and basic Linear Algebra operations:"
   ]
  },
  {
   "cell_type": "code",
   "execution_count": 27,
   "id": "836bac91",
   "metadata": {},
   "outputs": [
    {
     "data": {
      "text/plain": [
       "array([[17, 16,  7],\n",
       "       [41, 40, 19],\n",
       "       [65, 64, 31]])"
      ]
     },
     "execution_count": 27,
     "metadata": {},
     "output_type": "execute_result"
    }
   ],
   "source": [
    "np.dot(X,Y)                        # Dot product of X & Y, different from X*Y which is elementwise multiplication"
   ]
  },
  {
   "cell_type": "code",
   "execution_count": 36,
   "id": "6069731a-787d-4d84-ab42-d314ef9cee80",
   "metadata": {},
   "outputs": [
    {
     "name": "stdout",
     "output_type": "stream",
     "text": [
      "[[1 2 3]\n",
      " [4 5 6]\n",
      " [7 8 9]]\n"
     ]
    },
    {
     "data": {
      "text/plain": [
       "0.0"
      ]
     },
     "execution_count": 36,
     "metadata": {},
     "output_type": "execute_result"
    }
   ],
   "source": [
    "print(X)\n",
    "np.linalg.det(X)"
   ]
  },
  {
   "cell_type": "code",
   "execution_count": 40,
   "id": "c95f3da7",
   "metadata": {},
   "outputs": [
    {
     "data": {
      "text/plain": [
       "array([[-0.08333333,  0.25      , -0.08333333],\n",
       "       [-0.25      , -0.25      ,  0.75      ],\n",
       "       [ 0.91666667,  0.25      , -1.08333333]])"
      ]
     },
     "execution_count": 40,
     "metadata": {},
     "output_type": "execute_result"
    }
   ],
   "source": [
    "np.linalg.inv(Y)                   # Inverse matrix of Y; X is not invertible"
   ]
  },
  {
   "cell_type": "code",
   "execution_count": 41,
   "id": "78f8513c",
   "metadata": {},
   "outputs": [
    {
     "data": {
      "text/plain": [
       "array([[1, 4, 7],\n",
       "       [2, 5, 8],\n",
       "       [3, 6, 9]])"
      ]
     },
     "execution_count": 41,
     "metadata": {},
     "output_type": "execute_result"
    }
   ],
   "source": [
    "np.transpose(X)                    # Transpose of X"
   ]
  },
  {
   "cell_type": "code",
   "execution_count": 42,
   "id": "b809b02b",
   "metadata": {},
   "outputs": [
    {
     "data": {
      "text/plain": [
       "array([[1., 0., 0.],\n",
       "       [0., 1., 0.],\n",
       "       [0., 0., 1.]])"
      ]
     },
     "execution_count": 42,
     "metadata": {},
     "output_type": "execute_result"
    }
   ],
   "source": [
    "np.eye(3)                          # An 3x3 identity matrix"
   ]
  },
  {
   "cell_type": "code",
   "execution_count": 43,
   "id": "c3b8e428",
   "metadata": {},
   "outputs": [
    {
     "name": "stdout",
     "output_type": "stream",
     "text": [
      "[[0 1 2]\n",
      " [3 4 5]\n",
      " [6 7 8]]\n"
     ]
    }
   ],
   "source": [
    "arr = np.reshape(range(9),(3,3))   # Reshape the 1D row (length 9) to a 3x3 matrix\n",
    "print(arr)"
   ]
  },
  {
   "cell_type": "markdown",
   "id": "2f4b3407",
   "metadata": {},
   "source": [
    "Double check if you are not confident whenever using <b><i>numpy.reshape()</i></b>. This is one of the most used functions to manipulate matrix in Machine Learning applications. Reading through the official document is highly recommended https://numpy.org/doc/stable/reference/generated/numpy.reshape.html\n",
    "\n",
    "Other useful matrix manipulation functions are <i>numpy.delete()</i> and <i>numpy.concatenate()</i> which are used to delete/add row or column from the matrix, "
   ]
  },
  {
   "cell_type": "markdown",
   "id": "27f477dd",
   "metadata": {},
   "source": [
    "#### Exercise 2"
   ]
  },
  {
   "cell_type": "markdown",
   "id": "b9cb6d49",
   "metadata": {},
   "source": [
    "We have matrix <b>A</b> as below\n",
    "\\begin{align}\n",
    "    \\begin{pmatrix} \n",
    "        1 & 2 & 3 \\\\ 4 & 5 & 6 \n",
    "    \\end{pmatrix} \n",
    "\\end{align}\n",
    "\n",
    "Vector <b>B</b> as \\begin{pmatrix} 7 & 8 & 9\\end{pmatrix}\n",
    "\n",
    "And vector <b>C</b> as \\begin{pmatrix} 10 & 11 & 12\\end{pmatrix}\n",
    "\n",
    "Create the matrix and vectors above in Numpy and try the below tasks:\n",
    "\n",
    "(a) Add <b>B</b> to the 3rd row of <b>A</b>\n",
    "\n",
    "(b) Add <b>C</b> as the 4th column to the resulted matrix in (a)\n",
    "\n",
    "(c) Remove the first column from the resulted matrix in (b)"
   ]
  },
  {
   "cell_type": "code",
   "execution_count": 50,
   "id": "3df6d098",
   "metadata": {},
   "outputs": [
    {
     "name": "stdout",
     "output_type": "stream",
     "text": [
      "[[1 2 3]\n",
      " [4 5 6]\n",
      " [7 8 9]]\n",
      "[[ 1  2  3 10]\n",
      " [ 4  5  6 11]\n",
      " [ 7  8  9 12]]\n",
      "[[ 2  3 10]\n",
      " [ 5  6 11]\n",
      " [ 8  9 12]]\n"
     ]
    }
   ],
   "source": [
    "A = np.array([[1,2,3],[4,5,6]])\n",
    "B = np.array([7,8,9])\n",
    "C = np.array([10,11,12])\n",
    "\n",
    "M_a = np.vstack((A,B))\n",
    "print(M_a)\n",
    "\n",
    "M_b = np.hstack((M_a,C.reshape(3,1)))\n",
    "print(M_b)\n",
    "\n",
    "M_c = M_b[:,1:]\n",
    "print(M_c)"
   ]
  }
 ],
 "metadata": {
  "kernelspec": {
   "display_name": "Python 3 (ipykernel)",
   "language": "python",
   "name": "python3"
  },
  "language_info": {
   "codemirror_mode": {
    "name": "ipython",
    "version": 3
   },
   "file_extension": ".py",
   "mimetype": "text/x-python",
   "name": "python",
   "nbconvert_exporter": "python",
   "pygments_lexer": "ipython3",
   "version": "3.11.5"
  }
 },
 "nbformat": 4,
 "nbformat_minor": 5
}
