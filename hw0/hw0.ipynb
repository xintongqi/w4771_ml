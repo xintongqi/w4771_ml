{
 "cells": [
  {
   "cell_type": "markdown",
   "id": "eb6c8824-3a9e-45cf-8bee-be50be2d926a",
   "metadata": {},
   "source": [
    "# hw0"
   ]
  },
  {
   "cell_type": "code",
   "execution_count": 1,
   "id": "b0dcae38-b432-4437-b010-e6f26451e3fc",
   "metadata": {},
   "outputs": [],
   "source": [
    "import numpy as np"
   ]
  },
  {
   "cell_type": "markdown",
   "id": "7084ad92-78f8-499c-83d6-34b1302c830b",
   "metadata": {},
   "source": [
    "## 23 extract odd integers\n",
    "write a function that returns a numpy array containing all odd integers from a given numpy array $x$ of numbers"
   ]
  },
  {
   "cell_type": "code",
   "execution_count": 11,
   "id": "5c76e0ff-1263-4fe7-892f-2e1d21ff9bea",
   "metadata": {},
   "outputs": [],
   "source": [
    "def extract_odd_numbers(x):\n",
    "    result = np.array([])\n",
    "    for num in x:\n",
    "        if(num % 2 != 0):\n",
    "            result = np.append(result, num)\n",
    "    return result"
   ]
  },
  {
   "cell_type": "code",
   "execution_count": 12,
   "id": "d3af89b3-5d72-4b8b-a55a-8befb3cf75c2",
   "metadata": {},
   "outputs": [
    {
     "name": "stdout",
     "output_type": "stream",
     "text": [
      "[1. 3. 5.]\n"
     ]
    }
   ],
   "source": [
    "test = np.array([1,2,3,4,5])\n",
    "print(extract_odd_numbers(test))"
   ]
  },
  {
   "cell_type": "markdown",
   "id": "340a0cda-e506-4e42-beca-39d6dcd9fe25",
   "metadata": {},
   "source": [
    "## 24 construct matrix\n",
    "given a positive integer, returns a $n*n$ numpy array with the first column being all ones, the second column being all twos and so on."
   ]
  },
  {
   "cell_type": "code",
   "execution_count": 71,
   "id": "57349179-7f98-4b60-9f05-883e5b7ddd38",
   "metadata": {},
   "outputs": [],
   "source": [
    "def make_funny_matrix(n):\n",
    "    result = np.empty([n, n])\n",
    "    for i in range(n):\n",
    "        for j in range(n):\n",
    "            result[i][j]=j+1\n",
    "    return result"
   ]
  },
  {
   "cell_type": "code",
   "execution_count": 72,
   "id": "dc9b2f14-dddd-4e22-aee4-1140226422bb",
   "metadata": {},
   "outputs": [
    {
     "name": "stdout",
     "output_type": "stream",
     "text": [
      "[[1. 2. 3. 4. 5.]\n",
      " [1. 2. 3. 4. 5.]\n",
      " [1. 2. 3. 4. 5.]\n",
      " [1. 2. 3. 4. 5.]\n",
      " [1. 2. 3. 4. 5.]]\n"
     ]
    }
   ],
   "source": [
    "print(make_funny_matrix(5))"
   ]
  },
  {
   "cell_type": "markdown",
   "id": "7d0db609-9966-4f91-a65f-3de41d26e97b",
   "metadata": {},
   "source": [
    "## 25 append column\n",
    "returns an $m*(n+1)$ numpy array that appends a column of all ones to the end of a given $m*n$ array A"
   ]
  },
  {
   "cell_type": "code",
   "execution_count": 95,
   "id": "a381eec0-498e-4c91-8986-50d8d215541d",
   "metadata": {},
   "outputs": [],
   "source": [
    "def append_column(A):\n",
    "    col = np.ones(A.shape[0]).reshape(3,1)\n",
    "    return np.hstack((A, col))"
   ]
  },
  {
   "cell_type": "code",
   "execution_count": 96,
   "id": "76d4faa5-80a7-452b-8c9b-1bb3f71283eb",
   "metadata": {},
   "outputs": [
    {
     "name": "stdout",
     "output_type": "stream",
     "text": [
      "[[1 2 3 4 5]\n",
      " [1 2 3 4 5]\n",
      " [1 2 3 4 5]]\n",
      "[[1. 2. 3. 4. 5. 1.]\n",
      " [1. 2. 3. 4. 5. 1.]\n",
      " [1. 2. 3. 4. 5. 1.]]\n"
     ]
    }
   ],
   "source": [
    "A = np.array([[1,2,3,4,5],[1,2,3,4,5],[1,2,3,4,5]])\n",
    "print(A)\n",
    "print(append_column(A))"
   ]
  }
 ],
 "metadata": {
  "kernelspec": {
   "display_name": "Python 3 (ipykernel)",
   "language": "python",
   "name": "python3"
  },
  "language_info": {
   "codemirror_mode": {
    "name": "ipython",
    "version": 3
   },
   "file_extension": ".py",
   "mimetype": "text/x-python",
   "name": "python",
   "nbconvert_exporter": "python",
   "pygments_lexer": "ipython3",
   "version": "3.11.5"
  }
 },
 "nbformat": 4,
 "nbformat_minor": 5
}
