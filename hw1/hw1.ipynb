{
 "cells": [
  {
   "cell_type": "code",
   "execution_count": 1,
   "id": "723a4a95-edb0-4aac-910f-3d9aacc07f51",
   "metadata": {},
   "outputs": [],
   "source": [
    "import pickle\n",
    "import matplotlib.pyplot as plt\n",
    "import numpy as np\n",
    "import math\n",
    "import scipy.stats as stats"
   ]
  },
  {
   "cell_type": "code",
   "execution_count": 2,
   "id": "faa14deb-2c3f-4794-8ab2-39aa8e713547",
   "metadata": {},
   "outputs": [
    {
     "data": {
      "text/plain": [
       "<matplotlib.image.AxesImage at 0x12065a190>"
      ]
     },
     "execution_count": 2,
     "metadata": {},
     "output_type": "execute_result"
    },
    {
     "data": {
      "image/png": "[encoded data removed]",
      "text/plain": [
       "<Figure size 640x480 with 1 Axes>"
      ]
     },
     "metadata": {},
     "output_type": "display_data"
    }
   ],
   "source": [
    "mnist = pickle.load(open('mnist.pkl', 'rb'))\n",
    "plt.imshow(mnist['data'][0].reshape(28,28), cmap='gray_r') # show first image plt.show()"
   ]
  },
  {
   "cell_type": "markdown",
   "id": "a3c08a0d-c88c-462b-9f33-d2f146b17181",
   "metadata": {},
   "source": [
    "## Problem 1(a)"
   ]
  },
  {
   "cell_type": "code",
   "execution_count": 3,
   "id": "25132f3b-b7cc-4a52-a7b3-bb2b141ecae7",
   "metadata": {},
   "outputs": [
    {
     "name": "stdout",
     "output_type": "stream",
     "text": [
      "7140.0\n"
     ]
    }
   ],
   "source": [
    "a = np.zeros(784)\n",
    "b = np.empty(784)\n",
    "b.fill(255)\n",
    "# print(b)\n",
    "dist = np.linalg.norm(b - a)\n",
    "print(dist)"
   ]
  },
  {
   "cell_type": "markdown",
   "id": "76f5c885-c9d4-4284-840f-65a86555d027",
   "metadata": {},
   "source": [
    "## Problem 1(b)"
   ]
  },
  {
   "cell_type": "code",
   "execution_count": 4,
   "id": "00f31187-17ba-4cfd-a64f-d70ef18d749f",
   "metadata": {},
   "outputs": [],
   "source": [
    "def learn(train_x, train_y):\n",
    "    return (train_x.astype(float), train_y)"
   ]
  },
  {
   "cell_type": "code",
   "execution_count": 5,
   "id": "a430133d-3b51-439f-afbc-b326616ecca8",
   "metadata": {},
   "outputs": [
    {
     "name": "stdout",
     "output_type": "stream",
     "text": [
      "[5940005. 6750341. 3853933. ... 4632710. 3990452. 4137450.]\n",
      "[[ 1892389.  3178393.  1947685. ...  1980922.  2062998.  1683950.]\n",
      " [ 1813429.  2207929.  2517291. ...  1925970.   801488.   978720.]\n",
      " [ 3535759.  4605655.  3451415. ...  3575000.  2638584.  2582138.]\n",
      " ...\n",
      " [  301585.  1974109.   573549. ...  -117086.   311062.  -486460.]\n",
      " [ 1438099.  1264083.  2068719. ...  1225128.  -447774.  -259772.]\n",
      " [ -748449. -3103019.   837149. ...   138358. -5160696.  -599306.]]\n"
     ]
    }
   ],
   "source": [
    "tx = mnist['data'].astype(float)\n",
    "# print(tx**2)\n",
    "print(np.sum(tx**2, axis=1))\n",
    "print(np.sum(tx**2, axis=1) - 2*mnist['testdata'].astype(float).dot(tx.T))"
   ]
  },
  {
   "cell_type": "code",
   "execution_count": 6,
   "id": "d8cf3525-a960-4a49-8088-c4cf8449dfd7",
   "metadata": {},
   "outputs": [],
   "source": [
    "def predict(params, test_x):\n",
    "    x, y = params\n",
    "    return y[np.argmin(np.sum(x**2, axis=1) - 2*test_x.dot(x.T), axis=1)]"
   ]
  },
  {
   "cell_type": "code",
   "execution_count": 7,
   "id": "329ad1c1-a30b-403d-82ca-330203cceefd",
   "metadata": {},
   "outputs": [],
   "source": [
    "model = learn(mnist['data'], mnist['labels'])"
   ]
  },
  {
   "cell_type": "code",
   "execution_count": 8,
   "id": "4804491e-4a1c-41bf-83a1-8ab6928678c0",
   "metadata": {},
   "outputs": [
    {
     "name": "stdout",
     "output_type": "stream",
     "text": [
      "[7 2 1 ... 4 5 6]\n"
     ]
    }
   ],
   "source": [
    "result1 = predict(model, mnist['testdata'].astype(float))\n",
    "print(result1)"
   ]
  },
  {
   "cell_type": "code",
   "execution_count": 9,
   "id": "b6019474-ace6-46a7-8cad-858cab8e2404",
   "metadata": {},
   "outputs": [],
   "source": [
    "trainx =  mnist['data'].astype(float)\n",
    "testx =  mnist['testdata'].astype(float)\n",
    "tmp1 = np.sum(trainx**2, axis=1)\n",
    "tmp2 = 2*testx.dot(trainx.T)\n",
    "tmp3 = np.sum(testx**2, axis=1)"
   ]
  },
  {
   "cell_type": "code",
   "execution_count": 10,
   "id": "d5b02bfa-efb0-43a4-b0c1-8c9eeb1c23e0",
   "metadata": {},
   "outputs": [
    {
     "name": "stdout",
     "output_type": "stream",
     "text": [
      "(60000,)\n",
      "(10000, 60000)\n",
      "(10000,)\n"
     ]
    }
   ],
   "source": [
    "print(tmp1.shape)\n",
    "print(tmp2.shape)\n",
    "print(tmp3.shape)"
   ]
  },
  {
   "cell_type": "code",
   "execution_count": 11,
   "id": "f55d5489-b9b5-43f5-9bed-8cc4f0968ff7",
   "metadata": {},
   "outputs": [],
   "source": [
    "def find_dist(params, test_x):\n",
    "    x, y = params\n",
    "    return np.min(((np.sum(x**2, axis=1) - 2*test_x.dot(x.T)).T + np.sum(test_x**2, axis=1)).T, axis=1)"
   ]
  },
  {
   "cell_type": "code",
   "execution_count": 12,
   "id": "7b08b6dc-a961-4562-b64b-2be651be467c",
   "metadata": {},
   "outputs": [
    {
     "data": {
      "text/plain": [
       "array([ 457766., 1352410.,  103467., ...,  971317., 1725987., 1030011.])"
      ]
     },
     "execution_count": 12,
     "metadata": {},
     "output_type": "execute_result"
    }
   ],
   "source": [
    "find_dist(model, mnist['testdata'].astype(float))"
   ]
  },
  {
   "cell_type": "code",
   "execution_count": 13,
   "id": "1ace3506-e3dd-485c-b875-9fb93c6ab75a",
   "metadata": {},
   "outputs": [],
   "source": [
    "def find_avg(params, test_x):\n",
    "    x, y = params\n",
    "    return np.average(np.min(((np.sum(x**2, axis=1) - 2*test_x.dot(x.T)).T + np.sum(test_x**2, axis=1)).T, axis=1))"
   ]
  },
  {
   "cell_type": "code",
   "execution_count": 14,
   "id": "3c0b3722-3286-493c-8a29-8655f6f55a9f",
   "metadata": {},
   "outputs": [],
   "source": [
    "avg_dist = find_avg(model, mnist['testdata'].astype(float))"
   ]
  },
  {
   "cell_type": "code",
   "execution_count": 15,
   "id": "8955da17-68f8-474e-a3be-768e31c8dc2e",
   "metadata": {},
   "outputs": [
    {
     "name": "stdout",
     "output_type": "stream",
     "text": [
      "1254922.3729\n"
     ]
    }
   ],
   "source": [
    "print(avg_dist)"
   ]
  },
  {
   "cell_type": "code",
   "execution_count": 16,
   "id": "e1c0039f-5222-4def-806c-f74a40cd0cb5",
   "metadata": {},
   "outputs": [
    {
     "data": {
      "text/plain": [
       "1120.2331779143126"
      ]
     },
     "execution_count": 16,
     "metadata": {},
     "output_type": "execute_result"
    }
   ],
   "source": [
    "math.sqrt(avg_dist)"
   ]
  },
  {
   "cell_type": "markdown",
   "id": "f782015c-bb44-4a5c-b779-e9b5727e9b79",
   "metadata": {},
   "source": [
    "### test Problem 1(b)"
   ]
  },
  {
   "cell_type": "code",
   "execution_count": 17,
   "id": "28705449-6188-4b85-bb1e-5fe59bdea757",
   "metadata": {},
   "outputs": [
    {
     "data": {
      "text/plain": [
       "{'data': array([[ 78, 116,  97, ..., 107,  67, 153],\n",
       "        [ 16, 227,  46, ..., 161, 105, 252],\n",
       "        [118, 119, 162, ..., 231,  96, 252],\n",
       "        ...,\n",
       "        [ 16, 125, 198, ..., 110,  85, 253],\n",
       "        [212,  84,   4, ..., 232, 191,  42],\n",
       "        [  0, 194, 161, ..., 235, 130, 138]]),\n",
       " 'testdata': array([[131, 133,   4, ..., 235, 221, 190],\n",
       "        [192,  34,  13, ...,  94,   3,  72],\n",
       "        [ 49, 227, 186, ...,  66, 218, 116],\n",
       "        ...,\n",
       "        [197,  99, 176, ..., 245, 206, 154],\n",
       "        [ 33,  20,  81, ...,  83,  12,   6],\n",
       "        [136,  94,  36, ..., 159,  64,  61]])}"
      ]
     },
     "execution_count": 17,
     "metadata": {},
     "output_type": "execute_result"
    }
   ],
   "source": [
    "small_data = pickle.load(open('small_data.pkl', 'rb'))\n",
    "small_data"
   ]
  },
  {
   "cell_type": "code",
   "execution_count": 18,
   "id": "2858fc53-97ed-4c0f-aa45-61c264e2d47d",
   "metadata": {},
   "outputs": [
    {
     "name": "stdout",
     "output_type": "stream",
     "text": [
      "7571727.5\n",
      "2751.677215808569\n"
     ]
    }
   ],
   "source": [
    "small_data_model = learn(small_data['data'], mnist['labels'])\n",
    "small_data_avg_dist = find_avg(small_data_model, small_data['testdata'].astype(float))\n",
    "print(small_data_avg_dist)\n",
    "print(math.sqrt(small_data_avg_dist))"
   ]
  },
  {
   "cell_type": "markdown",
   "id": "42784b67-f6cb-46be-b3e8-c85c2ee5844b",
   "metadata": {},
   "source": [
    "## Problem 1(c)"
   ]
  },
  {
   "cell_type": "code",
   "execution_count": 19,
   "id": "e591dc4a-2177-4d2d-b2de-4633526422df",
   "metadata": {},
   "outputs": [],
   "source": [
    "train_x = mnist['data'].astype(float) # shape (60000,784)\n",
    "rng = np.random.default_rng()\n",
    "train_x_noise = rng.integers(255, size=(60000,280))\n",
    "trainx = np.hstack((train_x,train_x_noise))"
   ]
  },
  {
   "cell_type": "code",
   "execution_count": 20,
   "id": "92158222-137d-4680-90d2-e4fe6dc56909",
   "metadata": {},
   "outputs": [],
   "source": [
    "test_x = mnist['testdata'].astype(float) # shape (10000,784)\n",
    "rng = np.random.default_rng()\n",
    "test_x_noise = rng.integers(255, size=(10000,280))\n",
    "testx = np.hstack((test_x,test_x_noise))"
   ]
  },
  {
   "cell_type": "code",
   "execution_count": 21,
   "id": "3dabb9cc-b325-4b07-8ace-09ba7b6f21b0",
   "metadata": {},
   "outputs": [
    {
     "name": "stdout",
     "output_type": "stream",
     "text": [
      "(10000, 1064) (60000, 1064) (60000,)\n"
     ]
    }
   ],
   "source": [
    "print(testx.shape, trainx.shape, mnist['labels'].shape)"
   ]
  },
  {
   "cell_type": "code",
   "execution_count": 22,
   "id": "4493e573-a1dc-489c-9e57-4d461f3bfe6b",
   "metadata": {},
   "outputs": [
    {
     "name": "stdout",
     "output_type": "stream",
     "text": [
      "[7 2 1 ... 4 5 6]\n"
     ]
    }
   ],
   "source": [
    "result2 = predict((trainx,mnist['labels']), testx)\n",
    "print(result2)"
   ]
  },
  {
   "cell_type": "code",
   "execution_count": 23,
   "id": "e55613fe-b82d-4337-89fd-88d2d2c40ad7",
   "metadata": {},
   "outputs": [
    {
     "name": "stdout",
     "output_type": "stream",
     "text": [
      "8 2 61 8\n",
      "9 9 115 4\n",
      "7 1 175 7\n",
      "5 5 195 3\n",
      "4 9 198 4\n",
      "5 3 219 5\n",
      "8 8 241 9\n",
      "4 6 247 4\n",
      "4 9 250 4\n",
      "1 1 300 4\n",
      "2 0 318 2\n",
      "7 1 320 9\n",
      "7 7 321 2\n",
      "5 3 340 5\n",
      "4 4 358 7\n",
      "4 9 376 4\n",
      "7 7 381 3\n",
      "3 3 412 5\n",
      "0 5 443 0\n",
      "8 8 444 2\n",
      "0 0 445 6\n",
      "9 9 447 4\n",
      "9 8 448 9\n",
      "5 9 460 5\n",
      "7 7 464 3\n",
      "3 3 479 9\n",
      "0 0 495 8\n",
      "8 4 542 8\n",
      "8 9 543 8\n",
      "1 1 551 7\n",
      "4 9 571 4\n",
      "8 7 578 3\n",
      "7 7 583 2\n",
      "2 7 613 2\n",
      "3 9 628 3\n",
      "8 5 641 8\n",
      "6 4 646 2\n",
      "2 1 659 2\n",
      "3 3 684 7\n",
      "9 9 689 7\n",
      "8 4 691 8\n",
      "4 9 707 4\n",
      "6 6 717 0\n",
      "3 3 726 7\n",
      "9 9 740 4\n",
      "8 3 787 8\n",
      "5 9 791 5\n",
      "2 4 830 2\n",
      "3 3 839 8\n",
      "5 3 844 8\n",
      "9 9 881 4\n",
      "7 7 924 2\n",
      "5 5 938 3\n",
      "3 5 944 3\n",
      "9 9 947 8\n",
      "4 4 951 5\n",
      "5 5 957 3\n",
      "6 0 965 6\n",
      "2 0 995 2\n",
      "5 5 1014 6\n",
      "8 3 1026 8\n",
      "4 4 1039 7\n",
      "4 4 1068 8\n",
      "3 3 1082 5\n",
      "6 6 1089 5\n",
      "5 5 1107 9\n",
      "6 6 1112 4\n",
      "2 1 1138 2\n",
      "7 9 1173 7\n",
      "4 6 1178 4\n",
      "4 4 1192 9\n",
      "2 2 1226 7\n",
      "9 3 1228 9\n",
      "4 4 1232 9\n",
      "8 3 1234 8\n",
      "9 9 1242 4\n",
      "5 5 1247 9\n",
      "1 1 1260 7\n",
      "7 7 1299 5\n",
      "3 3 1319 8\n",
      "5 6 1325 8\n",
      "0 3 1364 8\n",
      "5 6 1378 5\n",
      "8 2 1394 8\n",
      "9 9 1422 4\n",
      "4 4 1425 8\n",
      "1 1 1465 4\n",
      "1 1 1500 7\n",
      "9 9 1522 7\n",
      "8 5 1523 8\n",
      "7 7 1530 8\n",
      "5 5 1559 9\n",
      "7 7 1681 3\n",
      "8 5 1686 8\n",
      "7 7 1695 9\n",
      "3 3 1709 9\n",
      "7 1 1716 7\n",
      "9 4 1721 7\n",
      "3 3 1737 5\n",
      "0 7 1748 0\n",
      "1 1 1754 7\n",
      "9 9 1782 8\n",
      "7 7 1790 2\n",
      "8 4 1823 8\n",
      "1 1 1865 4\n",
      "1 4 1868 1\n",
      "4 4 1901 9\n",
      "4 6 1938 4\n",
      "2 2 1955 8\n",
      "0 0 1984 2\n",
      "4 1 1989 4\n",
      "7 7 2044 2\n",
      "4 4 2052 8\n",
      "3 7 2058 2\n",
      "1 1 2063 7\n",
      "7 1 2070 7\n",
      "4 9 2090 4\n",
      "0 9 2093 8\n",
      "0 0 2098 2\n",
      "4 9 2109 3\n",
      "0 0 2118 6\n",
      "9 9 2130 4\n",
      "1 1 2135 6\n",
      "2 2 2168 8\n",
      "3 3 2177 8\n",
      "2 3 2182 1\n",
      "6 6 2224 5\n",
      "5 5 2233 8\n",
      "8 8 2237 5\n",
      "5 5 2288 3\n",
      "6 6 2293 9\n",
      "7 7 2299 2\n",
      "5 5 2308 3\n",
      "8 5 2309 8\n",
      "4 4 2314 7\n",
      "8 9 2339 5\n",
      "5 5 2351 3\n",
      "5 3 2369 5\n",
      "1 1 2387 9\n",
      "8 3 2393 8\n",
      "4 9 2394 4\n",
      "4 4 2422 6\n",
      "3 3 2430 8\n",
      "1 1 2437 2\n",
      "4 9 2447 4\n",
      "5 5 2454 6\n",
      "4 4 2488 2\n",
      "1 1 2533 3\n",
      "7 2 2578 7\n",
      "1 1 2607 7\n",
      "0 0 2648 9\n",
      "1 1 2654 6\n",
      "5 3 2686 5\n",
      "9 4 2720 9\n",
      "5 5 2721 6\n",
      "8 6 2724 8\n",
      "7 4 2730 7\n",
      "9 7 2735 9\n",
      "3 3 2810 5\n",
      "9 9 2828 4\n",
      "0 6 2896 8\n",
      "4 9 2901 4\n",
      "2 2 2927 3\n",
      "9 5 2929 9\n",
      "7 7 2939 9\n",
      "5 5 2952 3\n",
      "5 5 2953 3\n",
      "9 4 2979 9\n",
      "9 4 3001 9\n",
      "1 1 3005 9\n",
      "6 6 3062 8\n",
      "8 3 3064 8\n",
      "2 2 3073 1\n",
      "9 9 3117 5\n",
      "1 1 3136 7\n",
      "3 3 3206 8\n",
      "7 1 3225 7\n",
      "9 9 3228 4\n",
      "3 3 3229 2\n",
      "3 8 3240 9\n",
      "0 0 3269 6\n",
      "9 9 3333 7\n",
      "4 6 3377 4\n",
      "9 9 3388 4\n",
      "9 9 3405 4\n",
      "0 0 3422 6\n",
      "5 5 3456 3\n",
      "7 7 3475 3\n",
      "4 9 3490 4\n",
      "1 1 3503 9\n",
      "5 6 3506 5\n",
      "2 7 3511 2\n",
      "4 4 3520 6\n",
      "0 0 3558 5\n",
      "5 3 3559 8\n",
      "5 5 3567 8\n",
      "3 3 3597 9\n",
      "1 1 3599 2\n",
      "8 8 3654 5\n",
      "3 6 3662 8\n",
      "4 3 3702 5\n",
      "3 3 3727 8\n",
      "3 5 3739 3\n",
      "8 8 3742 3\n",
      "1 1 3751 7\n",
      "7 1 3767 7\n",
      "6 6 3780 4\n",
      "1 1 3796 2\n",
      "1 1 3808 7\n",
      "1 1 3838 7\n",
      "4 4 3850 9\n",
      "5 5 3853 6\n",
      "8 3 3871 8\n",
      "6 6 3893 5\n",
      "3 3 3902 5\n",
      "9 3 3926 9\n",
      "2 2 3949 8\n",
      "1 1 3976 7\n",
      "7 9 4007 7\n",
      "9 9 4017 4\n",
      "2 2 4065 0\n",
      "8 3 4075 8\n",
      "2 2 4078 9\n",
      "5 1 4152 5\n",
      "7 7 4163 9\n",
      "7 7 4176 2\n",
      "9 9 4194 4\n",
      "1 3 4212 1\n",
      "7 7 4224 9\n",
      "2 4 4248 2\n",
      "3 5 4277 3\n",
      "7 7 4289 2\n",
      "9 7 4294 9\n",
      "7 1 4297 7\n",
      "5 0 4300 5\n",
      "7 7 4306 3\n",
      "7 7 4313 4\n",
      "3 3 4330 5\n",
      "3 3 4341 2\n",
      "3 3 4355 5\n",
      "8 8 4356 5\n",
      "3 3 4359 5\n",
      "9 4 4369 9\n",
      "8 5 4380 8\n",
      "4 4 4400 7\n",
      "3 3 4429 8\n",
      "7 7 4435 3\n",
      "4 9 4438 4\n",
      "0 6 4477 0\n",
      "7 7 4497 8\n",
      "1 1 4500 9\n",
      "7 7 4505 9\n",
      "2 7 4521 2\n",
      "9 9 4575 4\n",
      "7 9 4578 7\n",
      "3 5 4635 3\n",
      "8 9 4639 8\n",
      "4 4 4665 9\n",
      "2 9 4690 7\n",
      "6 1 4699 6\n",
      "9 9 4712 5\n",
      "7 7 4731 8\n",
      "5 5 4740 3\n",
      "9 9 4783 4\n",
      "0 0 4807 8\n",
      "6 0 4814 6\n",
      "4 4 4823 9\n",
      "1 1 4837 7\n",
      "2 0 4878 2\n",
      "6 6 4879 8\n",
      "0 6 4880 0\n",
      "1 1 4886 7\n",
      "9 9 4911 4\n",
      "4 9 4929 4\n",
      "2 7 4939 2\n",
      "1 1 4966 7\n",
      "1 1 5068 4\n",
      "4 4 5176 8\n",
      "5 5 5209 8\n",
      "7 2 5246 7\n",
      "2 8 5562 2\n",
      "3 5 5583 3\n",
      "0 0 5586 8\n",
      "9 9 5600 7\n",
      "9 9 5620 7\n",
      "7 7 5676 4\n",
      "1 1 5691 4\n",
      "7 9 5714 7\n",
      "4 1 5720 4\n",
      "2 2 5734 3\n",
      "9 9 5835 7\n",
      "5 6 5841 3\n",
      "7 7 5842 4\n",
      "7 9 5858 7\n",
      "9 9 5887 7\n",
      "4 0 5888 4\n",
      "4 9 5936 4\n",
      "8 8 5955 3\n",
      "5 3 5981 5\n",
      "5 3 5982 5\n",
      "9 9 5997 5\n",
      "5 5 6004 8\n",
      "5 5 6011 3\n",
      "9 8 6023 3\n",
      "0 0 6035 2\n",
      "5 5 6059 3\n",
      "5 5 6071 9\n",
      "3 3 6081 9\n",
      "3 3 6091 9\n",
      "8 8 6160 3\n",
      "5 5 6166 9\n",
      "0 0 6172 9\n",
      "4 1 6417 4\n",
      "5 3 6544 5\n",
      "2 5 6554 2\n",
      "3 1 6569 3\n",
      "9 7 6571 9\n",
      "6 6 6574 2\n",
      "7 1 6576 7\n",
      "7 7 6597 0\n",
      "9 4 6608 9\n",
      "7 7 6614 2\n",
      "8 5 6631 8\n",
      "5 5 6651 0\n",
      "9 9 7121 8\n",
      "0 6 7216 0\n",
      "7 7 7233 3\n",
      "2 0 7249 2\n",
      "4 9 7338 4\n",
      "7 1 7432 7\n",
      "7 7 7434 4\n",
      "7 7 7492 2\n",
      "4 1 7574 4\n",
      "3 3 7597 8\n",
      "2 0 7637 2\n",
      "8 5 7718 8\n",
      "3 2 7821 3\n",
      "8 8 7842 5\n",
      "8 8 7850 5\n",
      "8 9 8061 4\n",
      "5 6 8062 5\n",
      "1 8 8088 1\n",
      "3 3 8112 2\n",
      "3 9 8246 3\n",
      "5 5 8277 3\n",
      "4 4 8279 8\n",
      "8 8 8296 3\n",
      "2 2 8316 7\n",
      "5 5 8408 8\n",
      "1 1 8416 4\n",
      "9 9 8520 4\n",
      "9 9 8527 4\n",
      "3 8 8684 3\n",
      "2 2 9009 7\n",
      "5 5 9280 8\n",
      "5 3 9422 5\n",
      "9 4 9587 9\n",
      "1 1 9613 2\n",
      "1 1 9629 8\n",
      "1 1 9634 0\n",
      "7 7 9642 9\n",
      "7 7 9664 2\n",
      "7 7 9669 4\n",
      "4 9 9672 4\n",
      "2 1 9686 2\n",
      "6 6 9729 5\n",
      "9 7 9733 9\n",
      "9 7 9741 9\n",
      "6 6 9745 4\n",
      "0 0 9768 2\n",
      "0 0 9779 2\n",
      "4 4 9808 9\n",
      "8 8 9811 2\n",
      "9 9 9835 4\n",
      "7 7 9839 2\n",
      "6 6 9850 0\n",
      "8 8 9867 2\n",
      "6 6 9879 0\n",
      "1 1 9883 5\n",
      "6 0 9888 6\n",
      "0 0 9904 2\n",
      "3 8 9944 3\n",
      "3 6 9982 5\n"
     ]
    }
   ],
   "source": [
    "error_count = 0\n",
    "for i in range(len(result2)):\n",
    "    if(result2[i] != mnist['testlabels'][i]):\n",
    "        print(result1[i], result2[i], i, mnist['testlabels'][i])\n",
    "        error_count+=1"
   ]
  },
  {
   "cell_type": "code",
   "execution_count": 24,
   "id": "8398162c-ad92-4098-80a7-cdac553d201a",
   "metadata": {},
   "outputs": [
    {
     "name": "stdout",
     "output_type": "stream",
     "text": [
      "383\n",
      "10000\n"
     ]
    },
    {
     "data": {
      "text/plain": [
       "0.0383"
      ]
     },
     "execution_count": 24,
     "metadata": {},
     "output_type": "execute_result"
    }
   ],
   "source": [
    "print(error_count)\n",
    "print(len(mnist['testdata']))\n",
    "test_error_rate = error_count/len(mnist['testdata'])\n",
    "test_error_rate"
   ]
  },
  {
   "cell_type": "markdown",
   "id": "48d49100-9e3d-45dd-b56c-7e74184401b4",
   "metadata": {},
   "source": [
    "## Problem 1(d)"
   ]
  },
  {
   "cell_type": "code",
   "execution_count": 25,
   "id": "bb6a990c-4af6-460b-b1a0-5833d1947247",
   "metadata": {},
   "outputs": [],
   "source": [
    "# def knn_predict(params, test_x):\n",
    "#     x, y = params\n",
    "#     print(np.bincount(y))\n",
    "#     print(y[np.bincount(y)])\n",
    "#     # return np.bincount(y).argmax()\n",
    "#     return y[np.bincount(y).argmax()]"
   ]
  },
  {
   "cell_type": "code",
   "execution_count": 26,
   "id": "f795225c-a97f-4c05-bca7-c8e5d40e76bb",
   "metadata": {},
   "outputs": [],
   "source": [
    "def knn_predict(params, test_x):\n",
    "    x, y = params\n",
    "    unique, counts = np.unique(y, return_counts=True)\n",
    "    print(dict(zip(unique, counts)))"
   ]
  },
  {
   "cell_type": "code",
   "execution_count": 27,
   "id": "83960671-9f82-411a-9603-c081b0c6dd87",
   "metadata": {},
   "outputs": [
    {
     "name": "stdout",
     "output_type": "stream",
     "text": [
      "{0: 5923, 1: 6742, 2: 5958, 3: 6131, 4: 5842, 5: 5421, 6: 5918, 7: 6265, 8: 5851, 9: 5949}\n"
     ]
    }
   ],
   "source": [
    "knn_predict(model, mnist['data'].astype(float))"
   ]
  },
  {
   "cell_type": "code",
   "execution_count": 28,
   "id": "b10ff330-42f9-427b-aba2-fd6ef9c9718a",
   "metadata": {},
   "outputs": [
    {
     "name": "stdout",
     "output_type": "stream",
     "text": [
      "0.8876333333333334\n"
     ]
    }
   ],
   "source": [
    "error_count = 0\n",
    "for i in range(len(mnist['data'])):\n",
    "    if(mnist['labels'][i] != 1):\n",
    "        error_count+=1\n",
    "print(error_count/len(mnist['data']))"
   ]
  },
  {
   "cell_type": "markdown",
   "id": "0194541e-4d10-47c9-8470-cc6b2de875d3",
   "metadata": {},
   "source": [
    "## Problem 3"
   ]
  },
  {
   "cell_type": "code",
   "execution_count": 29,
   "id": "1c9e9ef5-4645-42f4-a1e5-4c28e192f5a9",
   "metadata": {},
   "outputs": [
    {
     "name": "stdout",
     "output_type": "stream",
     "text": [
      "1.0\n",
      "2.718281828459045\n"
     ]
    }
   ],
   "source": [
    "print(np.log(np.exp(1)))\n",
    "print(np.exp(1))"
   ]
  },
  {
   "cell_type": "code",
   "execution_count": 30,
   "id": "9fcbf5ce-9d03-475a-ae5e-c71198c3cc92",
   "metadata": {},
   "outputs": [
    {
     "data": {
      "image/png": "[encoded data removed]",
      "text/plain": [
       "<Figure size 640x480 with 1 Axes>"
      ]
     },
     "metadata": {},
     "output_type": "display_data"
    },
    {
     "name": "stdout",
     "output_type": "stream",
     "text": [
      "0.1\n"
     ]
    }
   ],
   "source": [
    "# x = np.array([0,1])\n",
    "x = np.arange(0, 1, 0.01)\n",
    "y = (40*np.log(x/4+3/8))+(60*np.log(5/8-x/4))\n",
    "plt.title(\"Problem 3\")\n",
    "plt.xlabel(\"theta\")\n",
    "plt.ylabel(\"log likelihood\")\n",
    "plt.plot(x,y) \n",
    "plt.show()\n",
    "\n",
    "print(x[np.argmax(y)])"
   ]
  },
  {
   "cell_type": "markdown",
   "id": "abe7327b-76d0-40f1-a8b0-c8735472ddb2",
   "metadata": {},
   "source": [
    "## Problem 4"
   ]
  },
  {
   "cell_type": "code",
   "execution_count": 31,
   "id": "c4224cc7-4a28-4059-831a-cf6b224e31ef",
   "metadata": {},
   "outputs": [],
   "source": [
    "mu1, sigma1 = 4.99, 0.31\n",
    "mu2, sigma2 = 5.93, 0.47\n",
    "mu3, sigma3 = 6.61, 0.68"
   ]
  },
  {
   "cell_type": "code",
   "execution_count": 32,
   "id": "5dc0b072-9186-48e1-9c6c-be126fce6d91",
   "metadata": {},
   "outputs": [
    {
     "data": {
      "image/png": "[encoded data removed]",
      "text/plain": [
       "<Figure size 640x480 with 1 Axes>"
      ]
     },
     "metadata": {},
     "output_type": "display_data"
    }
   ],
   "source": [
    "x1 = np.linspace(mu1 - 3*sigma1, mu1 + 3*sigma1, 100)\n",
    "x2 = np.linspace(mu2 - 3*sigma2, mu2 + 3*sigma2, 100)\n",
    "x3 = np.linspace(mu3 - 3*sigma3, mu3 + 3*sigma3, 100)\n",
    "plt.plot(x1, stats.norm.pdf(x1, mu1, sigma1), label = \"setosa(1)\")\n",
    "plt.plot(x2, stats.norm.pdf(x2, mu2, sigma2), label = \"versicolor(2)\")\n",
    "plt.plot(x3, stats.norm.pdf(x3, mu3, sigma3), label = \"virginica(3)\")\n",
    "plt.legend()\n",
    "plt.show()"
   ]
  },
  {
   "cell_type": "code",
   "execution_count": 33,
   "id": "ddeb1a4a-9435-4c23-8d1f-8f73663231bc",
   "metadata": {},
   "outputs": [],
   "source": [
    "def gaussian(x, mu, sig):\n",
    "    return 1./(np.sqrt(2.*np.pi)*sig)*np.exp(-np.power((x - mu)/sig, 2.)/2)"
   ]
  },
  {
   "cell_type": "code",
   "execution_count": 34,
   "id": "00c373cd-0c87-468c-98b5-97070b661abf",
   "metadata": {},
   "outputs": [
    {
     "name": "stdout",
     "output_type": "stream",
     "text": [
      "[4.24324324 6.36336336]\n"
     ]
    }
   ],
   "source": [
    "x_values = np.linspace(3, 9, 1000)\n",
    "nd2 = gaussian(x_values, mu2, sigma2)\n",
    "nd3 = gaussian(x_values, mu3, sigma3)\n",
    "idx = np.argwhere(np.diff(np.sign(nd2 - nd3))).flatten()\n",
    "print(x_values[idx])"
   ]
  },
  {
   "cell_type": "markdown",
   "id": "0b8e0668-dd90-4ae2-b9aa-2add50a489a9",
   "metadata": {},
   "source": [
    "## Problem 5"
   ]
  },
  {
   "cell_type": "code",
   "execution_count": 35,
   "id": "5255207d-fa6b-413a-a4d7-8ee87bc88f34",
   "metadata": {},
   "outputs": [],
   "source": [
    "mu1, sigma1 = 4.99, 0.31\n",
    "mu2, sigma2 = 5.93, 0.47\n",
    "mu3, sigma3 = 6.61, 0.68"
   ]
  },
  {
   "cell_type": "code",
   "execution_count": 44,
   "id": "42882172-13a3-4b17-957f-4fe2b9110313",
   "metadata": {},
   "outputs": [
    {
     "data": {
      "image/png": "[encoded data removed]",
      "text/plain": [
       "<Figure size 640x480 with 1 Axes>"
      ]
     },
     "metadata": {},
     "output_type": "display_data"
    }
   ],
   "source": [
    "x1 = np.linspace(mu1 - 3*sigma1, mu1 + 3*sigma1, 100)\n",
    "x2 = np.linspace(mu2 - 3*sigma2, mu2 + 3*sigma2, 100)\n",
    "x3 = np.linspace(mu3 - 3*sigma3, mu3 + 3*sigma3, 100)\n",
    "plt.plot(x1, stats.norm.pdf(x1, mu1, sigma1), label = \"setosa(1)\")\n",
    "plt.plot(x2, 2*stats.norm.pdf(x2, mu2, sigma2), label = \"versicolor(2)\")\n",
    "plt.plot(x3, 2*stats.norm.pdf(x3, mu3, sigma3), label = \"virginica(3)\")\n",
    "plt.legend()\n",
    "plt.show()"
   ]
  },
  {
   "cell_type": "code",
   "execution_count": 40,
   "id": "0ae52c0e-e271-423e-bee2-74efc8ea9d14",
   "metadata": {},
   "outputs": [],
   "source": [
    "def gaussian(x, mu, sig):\n",
    "    return 1./(np.sqrt(2.*np.pi)*sig)*np.exp(-np.power((x - mu)/sig, 2.)/2)"
   ]
  },
  {
   "cell_type": "code",
   "execution_count": 43,
   "id": "170af11c-7208-4153-880a-6f6178b2edc5",
   "metadata": {},
   "outputs": [
    {
     "name": "stdout",
     "output_type": "stream",
     "text": [
      "[3.63063063 5.27927928]\n"
     ]
    }
   ],
   "source": [
    "x_values = np.linspace(0, 9, 1000)\n",
    "nd1 = gaussian(x_values, mu1, sigma1)\n",
    "nd2 = 2*gaussian(x_values, mu2, sigma2)\n",
    "nd3 = 2*gaussian(x_values, mu3, sigma3)\n",
    "idx = np.argwhere(np.diff(np.sign(nd1 - (nd2 + nd3)))).flatten()\n",
    "print(x_values[idx])"
   ]
  }
 ],
 "metadata": {
  "kernelspec": {
   "display_name": "Python 3 (ipykernel)",
   "language": "python",
   "name": "python3"
  },
  "language_info": {
   "codemirror_mode": {
    "name": "ipython",
    "version": 3
   },
   "file_extension": ".py",
   "mimetype": "text/x-python",
   "name": "python",
   "nbconvert_exporter": "python",
   "pygments_lexer": "ipython3",
   "version": "3.11.5"
  }
 },
 "nbformat": 4,
 "nbformat_minor": 5
}
