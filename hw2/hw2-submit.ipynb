{
 "cells": [
  {
   "cell_type": "code",
   "execution_count": 1,
   "id": "a12cb9a5-44e2-4fdc-91bc-84135a1fa9c7",
   "metadata": {},
   "outputs": [],
   "source": [
    "import numpy as np\n",
    "import matplotlib.pyplot as plt\n",
    "from itertools import chain, combinations"
   ]
  },
  {
   "cell_type": "markdown",
   "id": "88cabfcb-adfc-4c9f-9892-544c76cad91c",
   "metadata": {},
   "source": [
    "# Problem 1"
   ]
  },
  {
   "cell_type": "code",
   "execution_count": 2,
   "id": "69e953c1-aa16-40f2-9de2-d7aceab47292",
   "metadata": {},
   "outputs": [],
   "source": [
    "################################################################################\n",
    "# Part (a)\n",
    "\n",
    "import pickle\n",
    "wine = pickle.load(open('wine.pkl', 'rb'))"
   ]
  },
  {
   "cell_type": "code",
   "execution_count": 3,
   "id": "5cb03997-078b-42a5-b969-03b1df593343",
   "metadata": {},
   "outputs": [],
   "source": [
    "def learn(train_x, train_y, num_classes=3):\n",
    "    train_x_f1 = train_x[:, 0]\n",
    "    train_x_f2 = train_x[:, 1]\n",
    "    return [(np.mean(train_y == k), np.mean(train_x_f1[train_y == k]), np.mean(train_x_f2[train_y == k]), np.cov(train_x_f1[train_y == k], train_x_f2[train_y == k])) for k in range(num_classes)]"
   ]
  },
  {
   "cell_type": "code",
   "execution_count": 4,
   "id": "ec15e206-6bec-4163-9d66-f35c94bf97b4",
   "metadata": {},
   "outputs": [],
   "source": [
    "def predict(params, test_x):\n",
    "    all_log_posteriors = []\n",
    "    for prior, mu1, mu2, cor in params:\n",
    "        mat = np.array([[test_x[0]-mu1],[test_x[1]-mu2]])\n",
    "        log_posterior = np.log(prior) - np.log(np.linalg.det(cor))/2 - (mat.T @ np.linalg.inv(cor) @ mat)/2\n",
    "        all_log_posteriors.append(log_posterior)\n",
    "    \n",
    "    log_posteriors = np.array(all_log_posteriors)\n",
    "    return np.argmax(log_posteriors, axis=0)"
   ]
  },
  {
   "cell_type": "code",
   "execution_count": 5,
   "id": "f980d9c4-41d1-4945-bcb3-4c0ba6c83d38",
   "metadata": {},
   "outputs": [],
   "source": [
    "def select_params(train_data, train_label):\n",
    "    optimal_feat_idx = None\n",
    "    min_err_count = 10000000\n",
    "    \n",
    "    feat_idx = combinations(range(train_data.shape[1]), 2)\n",
    "    for i in feat_idx:\n",
    "        # make a deep copy\n",
    "        X = np.array(train_data)\n",
    "\n",
    "        # track number of correct predictions given the two features\n",
    "        err_count = 0\n",
    "\n",
    "        # select two features\n",
    "        idx1 = slice(i[0], i[0]+1)\n",
    "        idx2 = slice(i[1], i[1]+1)\n",
    "        extracted = np.hstack((X[:, idx1], X[:, idx2]))\n",
    "\n",
    "        # leave-one-out cross validation\n",
    "        for j in range(extracted.shape[0]):\n",
    "            val_test = extracted[j]\n",
    "            val_test_label = train_label[j]\n",
    "            mask = np.ones(extracted.shape[0], bool)\n",
    "            mask[0] = 0\n",
    "            val_train = extracted[mask]\n",
    "            val_train_label = train_label[mask]\n",
    "            \n",
    "            model = learn(val_train, val_train_label)\n",
    "            result = predict(model, val_test)[0]\n",
    "            if(result != val_test_label):\n",
    "                err_count += 1\n",
    "\n",
    "        # check optimality\n",
    "        if (min_err_count > err_count):\n",
    "            min_err_count = err_count\n",
    "            optimal_feat_idx = i\n",
    "    return optimal_feat_idx"
   ]
  },
  {
   "cell_type": "code",
   "execution_count": 6,
   "id": "2413cff8-f8fb-4f17-a2b3-4863625069d2",
   "metadata": {},
   "outputs": [
    {
     "data": {
      "text/plain": [
       "(0, 6)"
      ]
     },
     "execution_count": 6,
     "metadata": {},
     "output_type": "execute_result"
    }
   ],
   "source": [
    "train_data = np.array(wine['data'].astype(float))\n",
    "train_label = np.array(wine['labels'])\n",
    "\n",
    "select_params(train_data, train_label)"
   ]
  },
  {
   "cell_type": "code",
   "execution_count": 7,
   "id": "4181e4e5-ddd6-44e0-9af4-89e22d9cb72c",
   "metadata": {},
   "outputs": [
    {
     "name": "stdout",
     "output_type": "stream",
     "text": [
      "[(0.32954545454545453, 13.771379310344829, 3.0075862068965518, array([[0.23628374, 0.06198559],\n",
      "       [0.06198559, 0.12301182]])), (0.3977272727272727, 12.220857142857144, 1.9999999999999996, array([[0.21636101, 0.05461471],\n",
      "       [0.05461471, 0.44718235]])), (0.2727272727272727, 13.126666666666665, 0.7758333333333333, array([[0.24196232, 0.05349855],\n",
      "       [0.05349855, 0.09212101]]))]\n",
      "0.045454545454545456\n",
      "0.07777777777777778\n"
     ]
    }
   ],
   "source": [
    "################################################################################\n",
    "# Part (b)\n",
    "\n",
    "train_data = np.array(wine['data'].astype(float))\n",
    "train_label = np.array(wine['labels'])\n",
    "test_data = np.array(wine['testdata'].astype(float))\n",
    "test_label = np.array(wine['testlabels'])\n",
    "\n",
    "extracted_train_data = np.column_stack((train_data[:, 0], train_data[:, 6]))\n",
    "extracted_test_data = np.column_stack((test_data[:, 0], test_data[:, 6]))\n",
    "model = learn(extracted_train_data, train_label)\n",
    "\n",
    "print(model)\n",
    "\n",
    "train_err = 0\n",
    "test_err = 0\n",
    "\n",
    "# find training error rates\n",
    "for i in range(extracted_train_data.shape[0]):\n",
    "    pred = predict(model, extracted_train_data[i])[0]\n",
    "    if (pred != train_label[i]):\n",
    "        train_err += 1\n",
    "\n",
    "train_error_rate = train_err/train_data.shape[0]\n",
    "print(train_error_rate)\n",
    "\n",
    "# find test error rates\n",
    "for i in range(extracted_test_data.shape[0]):\n",
    "    pred = predict(model, extracted_test_data[i])[0]\n",
    "    if (pred != test_label[i]):\n",
    "        test_err += 1\n",
    "\n",
    "test_error_rate = test_err/test_data.shape[0]\n",
    "print(test_error_rate)"
   ]
  },
  {
   "cell_type": "markdown",
   "id": "649dc4bd-e426-49bb-9ea0-f1c13b1772d1",
   "metadata": {},
   "source": [
    "# Problem 2"
   ]
  },
  {
   "cell_type": "code",
   "execution_count": 8,
   "id": "eb4f65c6-a2f3-4652-ab3c-8e283bbb9e6e",
   "metadata": {},
   "outputs": [],
   "source": [
    "# Pr(Y=1|X=x) = p0 if x <= t1\n",
    "# Pr(Y=1|X=x) = p1 if t1 < x < t2\n",
    "# Pr(Y=1|X=x) = p2 if x >= t2\n",
    "\n",
    "t1 = 0.2\n",
    "t2 = 0.8\n",
    "p0 = 0.25\n",
    "p1 = 0.6\n",
    "p2 = 0.3"
   ]
  },
  {
   "cell_type": "code",
   "execution_count": 9,
   "id": "d1fe6f73-9682-4fab-9a53-44b65cfa2fa9",
   "metadata": {},
   "outputs": [
    {
     "name": "stdout",
     "output_type": "stream",
     "text": [
      "T1: 0.47000000000000003\n",
      "T2: 0.49000000000000005\n",
      "T3: 0.51\n"
     ]
    }
   ],
   "source": [
    "################################################################################\n",
    "# Part (b)\n",
    "\n",
    "# Function to implement\n",
    "def stump_err(t, a, b):\n",
    "    if (t<0 or t>1):\n",
    "        return 0.47\n",
    "    # elif(a==1 and b==1):\n",
    "    #     return 0.53\n",
    "    if(a==1 and b==0):\n",
    "        if(t<=t1):\n",
    "            return 0.75*t + 0.25*(0.2-t) + 0.42\n",
    "        elif(t<t2):\n",
    "            return 0.4*(t-0.2) + 0.6*(0.8-t) + 0.21\n",
    "        else:\n",
    "            return 0.7*(t-0.8) + 0.3*(1-t) + 0.39\n",
    "    else:\n",
    "        if(t<=t1):\n",
    "            return 0.25*t + 0.75*(0.2-t) + 0.38\n",
    "        elif(t<t2):\n",
    "            return 0.6*(t-0.2) + 0.4*(0.8-t) + 0.19\n",
    "        else:\n",
    "            return 0.3*(t-0.8) + 0.7*(1-t) + 0.41\n",
    "        \n",
    "\n",
    "print(f'T1: {stump_err(0.4,0,1)}')\n",
    "print(f'T2: {stump_err(0.5,0,1)}')\n",
    "print(f'T3: {stump_err(0.5,1,0)}')"
   ]
  },
  {
   "cell_type": "code",
   "execution_count": 10,
   "id": "0a78dcf9-bbe8-482d-96b0-0b7fcbb2f3c5",
   "metadata": {},
   "outputs": [
    {
     "name": "stdout",
     "output_type": "stream",
     "text": [
      "0.43\n"
     ]
    }
   ],
   "source": [
    "################################################################################\n",
    "# Part (c)\n",
    "def min_err(t):\n",
    "    return min(stump_err(t,0,1), stump_err(t,1,0), stump_err(t,0,0), stump_err(t,1,1))\n",
    "\n",
    "# Plotting code\n",
    "t_vals = np.linspace(-0.2, 1.2, num=14001)\n",
    "best_stump_err_rates = np.array([min_err(t) for t in t_vals])\n",
    "\n",
    "plt.figure()\n",
    "plt.plot(t_vals, best_stump_err_rates)\n",
    "plt.xlabel('$t$')\n",
    "plt.ylabel('best stump error rate with predicate $x \\leq t$')\n",
    "plt.savefig('error_rates.pdf', bbox_inches='tight')\n",
    "plt.close()\n",
    "\n",
    "# find smallest value\n",
    "print(min_err(0.2))"
   ]
  },
  {
   "cell_type": "code",
   "execution_count": 11,
   "id": "dbd87f3c-9c20-4aaa-aa5f-d73d9dde4a25",
   "metadata": {},
   "outputs": [
    {
     "name": "stdout",
     "output_type": "stream",
     "text": [
      "(0.75, 0, 1), 0.176\n"
     ]
    }
   ],
   "source": [
    "################################################################################\n",
    "# Part (d)\n",
    "\n",
    "def calc_err_rate(t, a, b, x, y):\n",
    "    err = 0\n",
    "    if(a==1 and b==0):\n",
    "        for i in range(len(y)):\n",
    "            if (x[i] <= t and y[i] == 0):\n",
    "                err += 1\n",
    "            if (x[i] > t and y[i] == 1):\n",
    "                err += 1\n",
    "    else:\n",
    "        for i in range(len(y)):\n",
    "            if (x[i] <= t and y[i] == 1):\n",
    "                err += 1\n",
    "            if (x[i] > t and y[i] == 0):\n",
    "                err += 1\n",
    "    return err/len(y)\n",
    "\n",
    "# Function to implement\n",
    "def find_best_stump(x,y):\n",
    "    t = 0\n",
    "    a = 0\n",
    "    b = 0\n",
    "    train_err_rate = 1\n",
    "    for t_val in x:\n",
    "        err01 = calc_err_rate(t_val, 0, 1, x, y)\n",
    "        err10 = calc_err_rate(t_val, 1, 0, x, y)\n",
    "        err_rate = min(err01, err10)\n",
    "        \n",
    "        if(err_rate < train_err_rate):\n",
    "            t = t_val\n",
    "            train_err_rate = err_rate\n",
    "            if (err_rate == err01):\n",
    "                a=0\n",
    "                b=1\n",
    "            else:\n",
    "                a=1\n",
    "                b=0\n",
    "    \n",
    "    return (t, a, b, train_err_rate)\n",
    "\n",
    "x = np.array([0.1, 0.15, 0.2, 0.25, 0.3, 0.35, 0.4, 0.45, 0.5, 0.55, 0.6, 0.65, 0.7, 0.75, 0.8, 0.85, 0.9 ])\n",
    "y = np.array([0, 1, 0, 0, 0, 1, 0, 0, 0, 1, 0, 0, 0, 0, 1, 1, 1])\n",
    "t, a, b, train_err = find_best_stump(x, y)\n",
    "print(f'{(t,a,b)}, {train_err:.3}')"
   ]
  },
  {
   "cell_type": "code",
   "execution_count": 12,
   "id": "593ed262-6132-43b3-833e-294ac48e3ce1",
   "metadata": {},
   "outputs": [],
   "source": [
    "################################################################################\n",
    "# Part (e)\n",
    "\n",
    "# Function to generate data\n",
    "def generate_data(n):\n",
    "    x = np.random.rand(n)\n",
    "    z = np.random.rand(n)\n",
    "    y = np.zeros(n)\n",
    "    y[x <= t1] = z[x <= t1] <= p0\n",
    "    y[(x > t1) * (x < t2)] = z[(x > t1) * (x < t2)] <= p1\n",
    "    y[x >= t2] = z[x >= t2] <= p2\n",
    "    return (x,y)\n",
    "\n",
    "# Simulation code\n",
    "np.random.seed(42)\n",
    "n = 100\n",
    "num_trials = 5000\n",
    "error_rates = np.zeros(num_trials)\n",
    "thresholds = np.zeros(num_trials)\n",
    "for trial in range(num_trials):\n",
    "    t, a, b, _ = find_best_stump(*generate_data(n))\n",
    "    thresholds[trial] = t\n",
    "    error_rates[trial] = stump_err(t, a, b)\n",
    "\n",
    "# Plotting code\n",
    "plt.figure()\n",
    "plt.hist(thresholds, bins=50)\n",
    "plt.xlabel('$\\hat\\\\theta$')\n",
    "plt.ylabel('counts')\n",
    "plt.savefig('histogram1.pdf', bbox_inches='tight')\n",
    "plt.close()\n",
    "\n",
    "plt.figure()\n",
    "plt.hist(error_rates, bins=50)\n",
    "plt.xlabel('error rate')\n",
    "plt.ylabel('counts')\n",
    "plt.savefig('histogram2.pdf', bbox_inches='tight')\n",
    "plt.close()"
   ]
  }
 ],
 "metadata": {
  "kernelspec": {
   "display_name": "Python 3 (ipykernel)",
   "language": "python",
   "name": "python3"
  },
  "language_info": {
   "codemirror_mode": {
    "name": "ipython",
    "version": 3
   },
   "file_extension": ".py",
   "mimetype": "text/x-python",
   "name": "python",
   "nbconvert_exporter": "python",
   "pygments_lexer": "ipython3",
   "version": "3.11.5"
  }
 },
 "nbformat": 4,
 "nbformat_minor": 5
}
