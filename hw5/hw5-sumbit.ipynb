{
 "cells": [
  {
   "cell_type": "code",
   "execution_count": 1,
   "id": "dd65511e-ad11-4ad1-8be1-d4f234a7d022",
   "metadata": {},
   "outputs": [],
   "source": [
    "import pickle\n",
    "import numpy as np\n",
    "import torch\n",
    "import matplotlib.pyplot as plt\n",
    "from scipy.special import softmax"
   ]
  },
  {
   "cell_type": "markdown",
   "id": "34d96cb3-7a0c-4cd6-ae65-3da695f0d2a2",
   "metadata": {},
   "source": [
    "# Problem 1"
   ]
  },
  {
   "cell_type": "code",
   "execution_count": 2,
   "id": "5eee870f-1898-4742-9977-c50604503dc7",
   "metadata": {},
   "outputs": [
    {
     "data": {
      "text/plain": [
       "{'data': array([[0.72727273, 0.56565657, 1.        ],\n",
       "        [0.46464646, 0.33333333, 1.        ],\n",
       "        [0.67676768, 0.58585859, 1.        ],\n",
       "        ...,\n",
       "        [0.38383838, 0.25252525, 1.        ],\n",
       "        [0.77777778, 0.48484848, 1.        ],\n",
       "        [0.08080808, 0.8989899 , 1.        ]]),\n",
       " 'labels': array([2, 1, 1, ..., 2, 2, 0]),\n",
       " 'testdata': array([[0.98989899, 0.7979798 , 1.        ],\n",
       "        [0.84848485, 0.35353535, 1.        ],\n",
       "        [0.95959596, 0.42424242, 1.        ],\n",
       "        ...,\n",
       "        [0.48484848, 0.58585859, 1.        ],\n",
       "        [0.39393939, 0.24242424, 1.        ],\n",
       "        [0.88888889, 0.71717172, 1.        ]]),\n",
       " 'testlabels': array([2, 1, 1, ..., 1, 1, 2])}"
      ]
     },
     "execution_count": 2,
     "metadata": {},
     "output_type": "execute_result"
    }
   ],
   "source": [
    "hw5p1 = pickle.load(open('hw5p1.pkl', 'rb'))\n",
    "hw5p1"
   ]
  },
  {
   "cell_type": "code",
   "execution_count": 3,
   "id": "f18a56d8-f556-4b17-a711-52ba41385fac",
   "metadata": {},
   "outputs": [],
   "source": [
    "# make copies of data so that we don't mess them up\n",
    "data = np.array(hw5p1['data'])\n",
    "labels = np.array(hw5p1['labels'])\n",
    "testdata = np.array(hw5p1['testdata'])\n",
    "testlabels = np.array(hw5p1['testlabels'])"
   ]
  },
  {
   "cell_type": "code",
   "execution_count": 4,
   "id": "260e3d60-55d8-4bb1-b3a2-9e62ab489227",
   "metadata": {},
   "outputs": [],
   "source": [
    "n = len(data)\n",
    "T = 10000"
   ]
  },
  {
   "cell_type": "code",
   "execution_count": 5,
   "id": "0a952905-7bdf-46aa-b3f5-2c351aa3655a",
   "metadata": {},
   "outputs": [],
   "source": [
    "def encode(y):\n",
    "    unique_values = np.unique(y)\n",
    "    num_unique = len(unique_values)\n",
    "    encoded = []\n",
    "\n",
    "    for value in y:\n",
    "        encoding = np.zeros(num_unique)\n",
    "        index = np.where(unique_values == value)[0][0]\n",
    "        encoding[index] = 1\n",
    "        encoded.append(encoding)\n",
    "\n",
    "    return np.array(encoded)"
   ]
  },
  {
   "cell_type": "code",
   "execution_count": 6,
   "id": "b7446e48-f609-40ca-91d6-06f164abae8d",
   "metadata": {},
   "outputs": [],
   "source": [
    "def logreg_nll_gd(train_x, train_y, eta=2/n, num_steps=T):\n",
    "    error_rates = []\n",
    "    nlls = []\n",
    "    ts = []\n",
    "\n",
    "    encoded_y = encode(train_y)\n",
    "    W = np.zeros((train_x.shape[1], encoded_y.shape[1]))\n",
    "\n",
    "    for t in range(num_steps):\n",
    "        W += eta * train_x.T @ (encoded_y - softmax(train_x @ W, axis=1))\n",
    "\n",
    "        # part b: report nlls and error rates\n",
    "        if (t+1) % 20 == 0:\n",
    "            ts.append(t+1)\n",
    "            pred_probs = softmax(train_x @ W, axis=1)\n",
    "            pred_y = np.argmax(pred_probs, axis=1)\n",
    "\n",
    "            # calculate negative log likelihood\n",
    "            class_probs = pred_probs[np.arange(len(train_y)), train_y]\n",
    "            nll = -np.sum(np.log(class_probs))\n",
    "            nlls.append(nll)\n",
    "\n",
    "            # calculate error rate\n",
    "            error_rate = 1 - np.mean(pred_y == train_y)\n",
    "            error_rates.append(error_rate)\n",
    "\n",
    "    return (W, nlls, error_rates, ts)"
   ]
  },
  {
   "cell_type": "code",
   "execution_count": 7,
   "id": "9a409dd7-1796-479c-b9b9-ed449013297e",
   "metadata": {},
   "outputs": [],
   "source": [
    "def get_test_err(test_x, test_y, W):\n",
    "    test_pred = softmax(test_x @ W, axis=1)\n",
    "    test_pred_y = np.argmax(test_pred, axis=1)\n",
    "    test_err = 1 - np.mean(test_pred_y == test_y)\n",
    "    return test_err"
   ]
  },
  {
   "cell_type": "code",
   "execution_count": 8,
   "id": "d9c90ee7-6102-4139-b76d-d46372b6a767",
   "metadata": {},
   "outputs": [],
   "source": [
    "W, nlls, error_rates, ts = logreg_nll_gd(data, labels)"
   ]
  },
  {
   "cell_type": "code",
   "execution_count": 9,
   "id": "f55773eb-6922-496a-8798-fa039460f186",
   "metadata": {},
   "outputs": [
    {
     "data": {
      "text/plain": [
       "0.20925000000000005"
      ]
     },
     "execution_count": 9,
     "metadata": {},
     "output_type": "execute_result"
    }
   ],
   "source": [
    "get_test_err(testdata, testlabels, W)"
   ]
  },
  {
   "cell_type": "code",
   "execution_count": 10,
   "id": "496f2d32-f050-4871-a465-e4654f026513",
   "metadata": {},
   "outputs": [
    {
     "data": {
      "text/plain": [
       "array([[-15.56255001,   7.98591001,   7.57664   ],\n",
       "       [  6.386991  ,  -5.62208406,  -0.76490694],\n",
       "       [  3.53435652,  -0.96013681,  -2.57421971]])"
      ]
     },
     "execution_count": 10,
     "metadata": {},
     "output_type": "execute_result"
    }
   ],
   "source": [
    "W"
   ]
  },
  {
   "cell_type": "code",
   "execution_count": 11,
   "id": "f7eca4b5-9469-4acd-bd2a-df3d840ee93e",
   "metadata": {},
   "outputs": [
    {
     "data": {
      "text/plain": [
       "0.2025"
      ]
     },
     "execution_count": 11,
     "metadata": {},
     "output_type": "execute_result"
    }
   ],
   "source": [
    "error_rates[-1] # training error rate"
   ]
  },
  {
   "cell_type": "code",
   "execution_count": 12,
   "id": "32fe3946-2c1c-4600-94e1-b986335c2b91",
   "metadata": {},
   "outputs": [
    {
     "data": {
      "image/png": "[encoded data removed]",
      "text/plain": [
       "<Figure size 400x300 with 1 Axes>"
      ]
     },
     "metadata": {},
     "output_type": "display_data"
    }
   ],
   "source": [
    "plt.figure(figsize=(4, 3))\n",
    "plt.plot(ts, nlls, label='nll')\n",
    "plt.xlabel('t')\n",
    "plt.ylabel('nll')\n",
    "plt.title('Plot of negative log likelihood against t')\n",
    "plt.legend()\n",
    "plt.grid(True)\n",
    "plt.show()"
   ]
  },
  {
   "cell_type": "code",
   "execution_count": 13,
   "id": "a6b5d893-6cd2-462e-bb62-729a0b3513db",
   "metadata": {},
   "outputs": [
    {
     "data": {
      "image/png": "[encoded data removed]",
      "text/plain": [
       "<Figure size 400x300 with 1 Axes>"
      ]
     },
     "metadata": {},
     "output_type": "display_data"
    }
   ],
   "source": [
    "plt.figure(figsize=(4, 3))\n",
    "plt.plot(ts, error_rates, label='error rate')\n",
    "plt.xlabel('t')\n",
    "plt.ylabel('err')\n",
    "plt.title('Plot of error rate against t')\n",
    "plt.legend()\n",
    "plt.grid(True)\n",
    "plt.show()"
   ]
  },
  {
   "cell_type": "markdown",
   "id": "c5a5133b-bf03-4584-a0c6-46db72562304",
   "metadata": {},
   "source": [
    "# Problem 5"
   ]
  },
  {
   "cell_type": "code",
   "execution_count": 14,
   "id": "7969274a-a50d-4b6d-a6ce-9e665ddd023f",
   "metadata": {},
   "outputs": [],
   "source": [
    "def cal(X, y, W):\n",
    "    v1 = X @ W\n",
    "    v2 = torch.softmax(v1, dim=1)\n",
    "    v3 = v2[torch.arange(len(y)), y]\n",
    "    v4 = torch.log(v3)\n",
    "    v5 = torch.sum(v4)\n",
    "    return -v5"
   ]
  },
  {
   "cell_type": "code",
   "execution_count": 15,
   "id": "0c8103b0-8a55-460a-a157-74b3d1af48c9",
   "metadata": {},
   "outputs": [],
   "source": [
    "def logreg_nll_gd_ad(K, eta, T, X, y):\n",
    "    X = torch.tensor(X, dtype=torch.double)\n",
    "    y = torch.tensor(y, dtype=torch.int)\n",
    "    W = torch.zeros(X.shape[1], K, dtype=torch.double)\n",
    "    W.requires_grad = True\n",
    "    for _ in range(T):\n",
    "        J = cal(X, y, W)\n",
    "        J.backward() \n",
    "        with torch.no_grad():\n",
    "            W -= eta * W.grad\n",
    "            W.grad.zero_()\n",
    "    return W.detach()"
   ]
  },
  {
   "cell_type": "code",
   "execution_count": 16,
   "id": "c6299db9-5492-4a5a-9bff-e6d27e973a35",
   "metadata": {},
   "outputs": [],
   "source": [
    "W2 = logreg_nll_gd_ad(3, 2/n, T, data, labels)"
   ]
  },
  {
   "cell_type": "code",
   "execution_count": 17,
   "id": "f2d86a1d-80ac-45ea-9886-7fcbd7e14af6",
   "metadata": {},
   "outputs": [
    {
     "data": {
      "text/plain": [
       "tensor([[-15.5626,   7.9859,   7.5766],\n",
       "        [  6.3870,  -5.6221,  -0.7649],\n",
       "        [  3.5344,  -0.9601,  -2.5742]], dtype=torch.float64)"
      ]
     },
     "execution_count": 17,
     "metadata": {},
     "output_type": "execute_result"
    }
   ],
   "source": [
    "W2"
   ]
  },
  {
   "cell_type": "code",
   "execution_count": 18,
   "id": "d9488b40-cca1-40da-9436-635701b5e440",
   "metadata": {},
   "outputs": [],
   "source": [
    "def get_norm_diff(W1, W2):\n",
    "    return np.linalg.norm(W1 - W2, 'fro')"
   ]
  },
  {
   "cell_type": "code",
   "execution_count": 19,
   "id": "d66f7200-84ec-4da7-a82b-2f0040a09721",
   "metadata": {},
   "outputs": [
    {
     "data": {
      "text/plain": [
       "1.4582081031998637e-13"
      ]
     },
     "execution_count": 19,
     "metadata": {},
     "output_type": "execute_result"
    }
   ],
   "source": [
    "get_norm_diff(W, W2.numpy())"
   ]
  },
  {
   "cell_type": "markdown",
   "id": "6c0cc04a-5f18-409b-a682-f87cf205110d",
   "metadata": {},
   "source": [
    "# Problem 6"
   ]
  },
  {
   "cell_type": "code",
   "execution_count": 20,
   "id": "7daa5068-cc03-4d56-91ec-8914811ec7b6",
   "metadata": {},
   "outputs": [],
   "source": [
    "click = pickle.load(open('hw5click.pkl', 'rb'))"
   ]
  },
  {
   "cell_type": "code",
   "execution_count": 21,
   "id": "9fea3102-3073-4215-b1a1-81f669626cdc",
   "metadata": {},
   "outputs": [],
   "source": [
    "# make copies of data so that we don't mess them up\n",
    "cdata = np.array(click['data'])\n",
    "clabels = np.array(click['labels'])\n",
    "ctestdata = np.array(click['testdata'])\n",
    "ctestlabels = np.array(click['testlabels'])"
   ]
  },
  {
   "cell_type": "code",
   "execution_count": 22,
   "id": "51d74257-3132-42d8-9360-ba54bf82f9aa",
   "metadata": {},
   "outputs": [],
   "source": [
    "wmle = np.array(click['w_mle'])\n",
    "bmle = np.array(click['b_mle'])"
   ]
  },
  {
   "cell_type": "code",
   "execution_count": 23,
   "id": "b30ee3d8-24bd-4e1a-a787-233821e1e54e",
   "metadata": {},
   "outputs": [],
   "source": [
    "def logistic(x):\n",
    "    return 1 / (1 + np.exp(-x))"
   ]
  },
  {
   "cell_type": "code",
   "execution_count": 24,
   "id": "55e09f0b-34c0-4934-adc0-8fb967542d2c",
   "metadata": {},
   "outputs": [],
   "source": [
    "def ci_gradient(w, b, X, y):\n",
    "    predictions = logistic(X @ w + b)\n",
    "    gradient_b = np.sum(predictions - y)\n",
    "    gradient_w = (X.T @ (predictions - y))\n",
    "    return np.append(gradient_w, gradient_b)"
   ]
  },
  {
   "cell_type": "code",
   "execution_count": 25,
   "id": "353e8a2b-b3da-4dff-8e7c-54ef5d13c609",
   "metadata": {},
   "outputs": [
    {
     "data": {
      "text/plain": [
       "array([7.58708797e-07, 5.32074888e-07, 6.25551399e-07, 1.37638182e-06,\n",
       "       3.90259085e-07, 2.61856602e-07, 1.44954518e-07, 1.22268314e-07,\n",
       "       7.73513416e-08, 6.42004352e-08, 7.72985214e-08, 7.40473478e-08,\n",
       "       4.75441615e-08, 5.84252984e-08, 7.05374272e-08, 7.73289826e-08,\n",
       "       5.33326632e-08, 3.61837029e-08, 6.25599863e-08, 4.32678853e-08,\n",
       "       4.02153408e-08, 3.88878285e-08, 6.48395355e-08, 3.59464742e-08,\n",
       "       4.49839034e-08, 4.40184785e-08, 4.79648875e-08, 5.86180604e-08,\n",
       "       4.41668122e-08, 2.83910068e-08, 2.48625036e-08, 1.93513862e-08,\n",
       "       2.84955259e-08, 3.28347158e-08, 4.60171208e-08, 3.29880665e-08,\n",
       "       2.37288118e-08, 1.93342615e-08, 2.36991692e-08, 2.19820677e-08,\n",
       "       4.09004647e-08, 3.10452881e-08, 3.87866219e-08, 4.73770818e-08,\n",
       "       3.89088202e-08, 1.92184566e-08, 1.92069420e-08, 3.16721254e-08,\n",
       "       2.56295447e-08, 3.00256999e-08, 3.93349902e-08, 3.08200985e-08,\n",
       "       3.23679314e-08, 2.72387874e-08, 5.03784868e-07])"
      ]
     },
     "execution_count": 25,
     "metadata": {},
     "output_type": "execute_result"
    }
   ],
   "source": [
    "ci_gradient(wmle, bmle, cdata, clabels)"
   ]
  },
  {
   "cell_type": "code",
   "execution_count": 26,
   "id": "37af727f-432d-463b-8ce0-33db625a4602",
   "metadata": {},
   "outputs": [
    {
     "data": {
      "text/plain": [
       "1.935945342948108e-06"
      ]
     },
     "execution_count": 26,
     "metadata": {},
     "output_type": "execute_result"
    }
   ],
   "source": [
    "# calculate gradients of J\n",
    "gradient_arr = ci_gradient(wmle, bmle, cdata, clabels)\n",
    "np.linalg.norm(gradient_arr)"
   ]
  },
  {
   "cell_type": "code",
   "execution_count": 27,
   "id": "5d2e2d36-cfcb-42cd-a1f0-e9258d88dc88",
   "metadata": {},
   "outputs": [],
   "source": [
    "def ci_get_err(w, b, X, y):\n",
    "    pred = (X @ w + b > 0).astype(int)\n",
    "    return np.sum(pred != y)/len(y)"
   ]
  },
  {
   "cell_type": "code",
   "execution_count": 28,
   "id": "27e7f556-da2f-4326-b223-0ff325916021",
   "metadata": {},
   "outputs": [
    {
     "name": "stdout",
     "output_type": "stream",
     "text": [
      "0.0453 0.054\n"
     ]
    }
   ],
   "source": [
    "ci_train_err = ci_get_err(wmle, bmle, cdata, clabels)\n",
    "ci_test_err = ci_get_err(wmle, bmle, ctestdata, ctestlabels)\n",
    "print(ci_train_err, ci_test_err)"
   ]
  },
  {
   "cell_type": "markdown",
   "id": "f40e1b1d-951a-4d4c-ac39-6ecac3fe172f",
   "metadata": {},
   "source": [
    "# Problem 8"
   ]
  },
  {
   "cell_type": "code",
   "execution_count": 29,
   "id": "b6ccc7f2-5fef-472f-bcc2-fbe64708f8fc",
   "metadata": {},
   "outputs": [],
   "source": [
    "def bal_nll_gd(train_x, train_y, wmle, bmle, eta=0.001, num_steps=50000, lam=0.01):\n",
    "    w = np.array(wmle)\n",
    "    b = bmle\n",
    "    # w = np.ones(train_x.shape[1])\n",
    "    # b = 1\n",
    "\n",
    "    # calculate n0 and n1\n",
    "    n0 = np.sum(train_y == 0)\n",
    "    n1 = np.sum(train_y == 1)\n",
    "\n",
    "    # create encoded y\n",
    "    encoded_y = np.where(train_y == 0, 0.5/n0, 0.5/n1)\n",
    "            \n",
    "    for t in range(num_steps):\n",
    "        pred = train_x @ w + b\n",
    "        shared_component = logistic(train_x @ w + b) - train_y\n",
    "        \n",
    "        gw = encoded_y.T * shared_component\n",
    "        gb = encoded_y.T @ shared_component\n",
    "\n",
    "        w -= eta * (lam*(w-wmle) + gw @ train_x)\n",
    "        b -= eta * (lam*(b-bmle) + gb)\n",
    "\n",
    "    return (w,b)"
   ]
  },
  {
   "cell_type": "code",
   "execution_count": 30,
   "id": "bf9fae76-8487-4ec7-85eb-2a25646a16c6",
   "metadata": {},
   "outputs": [],
   "source": [
    "wbal, bbal = bal_nll_gd(cdata, clabels, wmle, bmle)"
   ]
  },
  {
   "cell_type": "code",
   "execution_count": 31,
   "id": "5a934bfa-630c-4667-9cbc-b649ddc00d86",
   "metadata": {},
   "outputs": [
    {
     "data": {
      "text/plain": [
       "(array([ 3.18497460e-01, -5.70200630e-01,  4.16217094e-01,  6.21897467e-02,\n",
       "         8.07034898e-01,  3.82515022e-01,  3.59913063e-03, -8.19004421e-02,\n",
       "         5.96284167e-02,  2.26708549e-01,  2.67131184e-01, -8.99197336e-02,\n",
       "        -1.45960244e-01,  1.22420712e-01,  5.16587449e-01,  1.92976402e-01,\n",
       "         8.29908623e-02, -1.51292322e-01,  4.69844250e-01, -1.80470194e-01,\n",
       "         1.93545638e-01, -1.37174744e-01,  2.45489374e-01, -1.94705606e-01,\n",
       "         1.54401476e-01,  1.49800066e-01,  1.81407877e-01,  3.53034690e-01,\n",
       "        -1.35988235e-01, -1.92745631e-01, -9.28843439e-02, -8.79546089e-01,\n",
       "        -1.72931919e-02, -2.21247931e-01,  4.07982444e-03,  4.35112250e-02,\n",
       "         3.42842907e-01, -6.46860498e-01,  4.58715903e-01, -2.78915770e-01,\n",
       "        -2.18061843e-02, -1.25980463e-01,  2.02237764e-01,  6.86608412e-01,\n",
       "         2.88289547e-01, -2.24888317e+01,  2.21785053e+01,  1.48889990e-01,\n",
       "        -2.61335384e-01,  1.67277187e-01,  5.95002785e-02,  8.74198286e-03,\n",
       "         2.97366084e-02, -5.98291792e-02]),\n",
       " array(-1.92960755))"
      ]
     },
     "execution_count": 31,
     "metadata": {},
     "output_type": "execute_result"
    }
   ],
   "source": [
    "wbal, bbal"
   ]
  },
  {
   "cell_type": "code",
   "execution_count": 32,
   "id": "ec43fe8d-617c-4c04-946f-120fd0bf9c9d",
   "metadata": {},
   "outputs": [],
   "source": [
    "def bal_get_err(w, b, X, y):\n",
    "    predicted_labels = (X @ w + b > 0).astype(int)\n",
    "\n",
    "    false_positive_rate = np.mean((predicted_labels == 1) & (y == 0)) / np.mean((y == 0))\n",
    "    false_negative_rate = np.mean((predicted_labels == 0) & (y == 1)) / np.mean((y == 1))\n",
    "\n",
    "    balanced_error = 0.5 * (false_positive_rate + false_negative_rate)\n",
    "    return balanced_error"
   ]
  },
  {
   "cell_type": "code",
   "execution_count": 33,
   "id": "a4f9ab62-be90-41f5-a151-7c3ec1afaffe",
   "metadata": {},
   "outputs": [],
   "source": [
    "bal_train_err = bal_get_err(wbal, bbal, cdata, clabels)\n",
    "bal_test_err = bal_get_err(wbal, bbal, ctestdata, ctestlabels)"
   ]
  },
  {
   "cell_type": "code",
   "execution_count": 34,
   "id": "d52d8e91-aaf0-43ab-8cf3-4481237d4f74",
   "metadata": {},
   "outputs": [
    {
     "data": {
      "text/plain": [
       "(0.40113707228858, 0.3704486727742542)"
      ]
     },
     "execution_count": 34,
     "metadata": {},
     "output_type": "execute_result"
    }
   ],
   "source": [
    "bal_train_err, bal_test_err"
   ]
  }
 ],
 "metadata": {
  "kernelspec": {
   "display_name": "Python 3 (ipykernel)",
   "language": "python",
   "name": "python3"
  },
  "language_info": {
   "codemirror_mode": {
    "name": "ipython",
    "version": 3
   },
   "file_extension": ".py",
   "mimetype": "text/x-python",
   "name": "python",
   "nbconvert_exporter": "python",
   "pygments_lexer": "ipython3",
   "version": "3.11.5"
  }
 },
 "nbformat": 4,
 "nbformat_minor": 5
}
